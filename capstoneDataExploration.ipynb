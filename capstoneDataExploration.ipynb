{
 "cells": [
  {
   "cell_type": "markdown",
   "metadata": {},
   "source": [
    "## This noteboook explores the data quality of the two Quandl data sets for Capstone project"
   ]
  },
  {
   "cell_type": "code",
   "execution_count": 14,
   "metadata": {
    "collapsed": true
   },
   "outputs": [],
   "source": [
    "import pandas as pd\n",
    "import numpy as np\n",
    "from matplotlib import pyplot as plt\n",
    "%matplotlib inline\n",
    "import seaborn as sns; sns.set(style=\"ticks\", color_codes=True)\n",
    "\n",
    "plt.rcParams[\"figure.figsize\"] = [15.0,6.0]"
   ]
  },
  {
   "cell_type": "markdown",
   "metadata": {},
   "source": [
    "### Exploring the fundamental data first"
   ]
  },
  {
   "cell_type": "code",
   "execution_count": 15,
   "metadata": {
    "collapsed": true
   },
   "outputs": [],
   "source": [
    "#The below is the first of the two quandl datasets I have subscribed to. This one contains core fundamental data for India \n",
    "### please unzip DEB.zip file in ./DEB to be able to run the below code ###\n",
    "df = pd.read_csv('DEB\\\\DEB_20170718.csv', names = ['dataname','date','standalone','consolidated'], \n",
    "                 header = None, parse_dates = ['date'])\n"
   ]
  },
  {
   "cell_type": "code",
   "execution_count": 16,
   "metadata": {},
   "outputs": [
    {
     "data": {
      "text/html": [
       "<div>\n",
       "<style>\n",
       "    .dataframe thead tr:only-child th {\n",
       "        text-align: right;\n",
       "    }\n",
       "\n",
       "    .dataframe thead th {\n",
       "        text-align: left;\n",
       "    }\n",
       "\n",
       "    .dataframe tbody tr th {\n",
       "        vertical-align: top;\n",
       "    }\n",
       "</style>\n",
       "<table border=\"1\" class=\"dataframe\">\n",
       "  <thead>\n",
       "    <tr style=\"text-align: right;\">\n",
       "      <th></th>\n",
       "      <th>dataname</th>\n",
       "      <th>date</th>\n",
       "      <th>standalone</th>\n",
       "      <th>consolidated</th>\n",
       "    </tr>\n",
       "  </thead>\n",
       "  <tbody>\n",
       "    <tr>\n",
       "      <th>0</th>\n",
       "      <td>20MICRONS_A_ACCRUALS</td>\n",
       "      <td>2005-03-31</td>\n",
       "      <td>-10.44</td>\n",
       "      <td>NaN</td>\n",
       "    </tr>\n",
       "    <tr>\n",
       "      <th>1</th>\n",
       "      <td>20MICRONS_A_ACCRUALS</td>\n",
       "      <td>2006-03-31</td>\n",
       "      <td>0.44</td>\n",
       "      <td>NaN</td>\n",
       "    </tr>\n",
       "    <tr>\n",
       "      <th>2</th>\n",
       "      <td>20MICRONS_A_ACCRUALS</td>\n",
       "      <td>2007-03-31</td>\n",
       "      <td>-2.61</td>\n",
       "      <td>NaN</td>\n",
       "    </tr>\n",
       "    <tr>\n",
       "      <th>3</th>\n",
       "      <td>20MICRONS_A_ACCRUALS</td>\n",
       "      <td>2008-03-31</td>\n",
       "      <td>-2.54</td>\n",
       "      <td>NaN</td>\n",
       "    </tr>\n",
       "    <tr>\n",
       "      <th>4</th>\n",
       "      <td>20MICRONS_A_ACCRUALS</td>\n",
       "      <td>2009-03-31</td>\n",
       "      <td>1.00</td>\n",
       "      <td>0.84</td>\n",
       "    </tr>\n",
       "  </tbody>\n",
       "</table>\n",
       "</div>"
      ],
      "text/plain": [
       "               dataname       date  standalone  consolidated\n",
       "0  20MICRONS_A_ACCRUALS 2005-03-31      -10.44           NaN\n",
       "1  20MICRONS_A_ACCRUALS 2006-03-31        0.44           NaN\n",
       "2  20MICRONS_A_ACCRUALS 2007-03-31       -2.61           NaN\n",
       "3  20MICRONS_A_ACCRUALS 2008-03-31       -2.54           NaN\n",
       "4  20MICRONS_A_ACCRUALS 2009-03-31        1.00          0.84"
      ]
     },
     "execution_count": 16,
     "metadata": {},
     "output_type": "execute_result"
    }
   ],
   "source": [
    "df.head()"
   ]
  },
  {
   "cell_type": "code",
   "execution_count": 17,
   "metadata": {},
   "outputs": [
    {
     "data": {
      "text/plain": [
       "<matplotlib.axes._subplots.AxesSubplot at 0x15680421320>"
      ]
     },
     "execution_count": 17,
     "metadata": {},
     "output_type": "execute_result"
    },
    {
     "data": {
      "image/png": "[encoded data removed]",
      "text/plain": [
       "<matplotlib.figure.Figure at 0x1567dd4c4e0>"
      ]
     },
     "metadata": {},
     "output_type": "display_data"
    }
   ],
   "source": [
    "#First let us try to plot a specific feature to see if we can replicate the chart as seen on quandl\n",
    "a = df[df.dataname == 'RCOM_Q_EPS1Q'].set_index(['date','dataname'])\n",
    "a.unstack().plot()\n",
    "#Awsome! have been able to replicate the chart of this from quandl."
   ]
  },
  {
   "cell_type": "code",
   "execution_count": null,
   "metadata": {},
   "outputs": [],
   "source": [
    "len(df) # 9 million rows! "
   ]
  },
  {
   "cell_type": "code",
   "execution_count": null,
   "metadata": {},
   "outputs": [],
   "source": [
    "df.date.min()"
   ]
  },
  {
   "cell_type": "code",
   "execution_count": 18,
   "metadata": {
    "collapsed": true
   },
   "outputs": [],
   "source": [
    "#To avoid changing code everywhere I am simply editing the date from 2016 to 2005, \n",
    "#so dfsmall is not small anymore but full df\n",
    "dfsmall = df[df.date >= '2005-01-01']"
   ]
  },
  {
   "cell_type": "code",
   "execution_count": 19,
   "metadata": {},
   "outputs": [
    {
     "data": {
      "text/plain": [
       "9191479"
      ]
     },
     "execution_count": 19,
     "metadata": {},
     "output_type": "execute_result"
    }
   ],
   "source": [
    "len(dfsmall) "
   ]
  },
  {
   "cell_type": "code",
   "execution_count": 20,
   "metadata": {},
   "outputs": [
    {
     "data": {
      "text/plain": [
       "0    [20MICRONS, A, ACCRUALS]\n",
       "1    [20MICRONS, A, ACCRUALS]\n",
       "2    [20MICRONS, A, ACCRUALS]\n",
       "3    [20MICRONS, A, ACCRUALS]\n",
       "4    [20MICRONS, A, ACCRUALS]\n",
       "Name: dataname, dtype: object"
      ]
     },
     "execution_count": 20,
     "metadata": {},
     "output_type": "execute_result"
    }
   ],
   "source": [
    "#split the feature column into ticker, freq and indicator\n",
    "splitfeature = dfsmall['dataname'].str.split('_')\n",
    "splitfeature.head()"
   ]
  },
  {
   "cell_type": "code",
   "execution_count": 23,
   "metadata": {},
   "outputs": [
    {
     "data": {
      "text/plain": [
       "3    8867045\n",
       "4     324434\n",
       "Name: dataname, dtype: int64"
      ]
     },
     "execution_count": 23,
     "metadata": {},
     "output_type": "execute_result"
    }
   ],
   "source": [
    "splitfeature.apply(len).value_counts() # count how many strings is each dataname split into, after splitting by underscores"
   ]
  },
  {
   "cell_type": "markdown",
   "metadata": {
    "collapsed": true
   },
   "source": [
    "#### Need to check why there are these 4 strings sometimes \n",
    "(dataname was supposed to be of the form ticker_freq_indicator) "
   ]
  },
  {
   "cell_type": "code",
   "execution_count": null,
   "metadata": {},
   "outputs": [],
   "source": [
    "splitfeature[splitfeature.apply(len) == 4].head(10) \n",
    "# looks like the feature name is split by an underscore sometimes."
   ]
  },
  {
   "cell_type": "code",
   "execution_count": null,
   "metadata": {},
   "outputs": [],
   "source": [
    "#let us make sure the 2nd column always as A (Annual) and Q(Quarterly)\n",
    "splitfeature.apply(lambda x: x[1]).value_counts()"
   ]
  },
  {
   "cell_type": "code",
   "execution_count": 24,
   "metadata": {},
   "outputs": [],
   "source": [
    "#So, thankfully the first string before _ is always company ticker, \n",
    "#the second is always freq and indicator name is mostly without\n",
    "#an underscore, but sometimes with an underscore.\n",
    "splitfeature = dfsmall['dataname'].str.split('_').apply(lambda x: x if len(x)==3 else [x[0],x[1],x[2] + '_'+ x[3]] ) "
   ]
  },
  {
   "cell_type": "code",
   "execution_count": 46,
   "metadata": {},
   "outputs": [
    {
     "data": {
      "text/plain": [
       "3    9191479\n",
       "Name: dataname, dtype: int64"
      ]
     },
     "execution_count": 46,
     "metadata": {},
     "output_type": "execute_result"
    }
   ],
   "source": [
    "# again count how many strings are there after splitting by underscores\n",
    "splitfeature.apply(len).value_counts() "
   ]
  },
  {
   "cell_type": "code",
   "execution_count": 47,
   "metadata": {},
   "outputs": [
    {
     "data": {
      "text/plain": [
       "281    [20MICRONS, A, CFO_DEBT]\n",
       "282    [20MICRONS, A, CFO_DEBT]\n",
       "283    [20MICRONS, A, CFO_DEBT]\n",
       "284    [20MICRONS, A, CFO_DEBT]\n",
       "285    [20MICRONS, A, CFO_DEBT]\n",
       "286    [20MICRONS, A, CFO_DEBT]\n",
       "287    [20MICRONS, A, CFO_DEBT]\n",
       "288    [20MICRONS, A, CFO_DEBT]\n",
       "289    [20MICRONS, A, CFO_DEBT]\n",
       "290    [20MICRONS, A, CFO_DEBT]\n",
       "Name: dataname, dtype: object"
      ]
     },
     "execution_count": 47,
     "metadata": {},
     "output_type": "execute_result"
    }
   ],
   "source": [
    "#Good, so now we have only three elements. Lets check what has happened to those locations where there were 4 elements\n",
    "splitfeature[dfsmall['dataname'].str.split('_').apply(len) == 4].head(10)"
   ]
  },
  {
   "cell_type": "code",
   "execution_count": 25,
   "metadata": {},
   "outputs": [
    {
     "data": {
      "text/html": [
       "<div>\n",
       "<style>\n",
       "    .dataframe thead tr:only-child th {\n",
       "        text-align: right;\n",
       "    }\n",
       "\n",
       "    .dataframe thead th {\n",
       "        text-align: left;\n",
       "    }\n",
       "\n",
       "    .dataframe tbody tr th {\n",
       "        vertical-align: top;\n",
       "    }\n",
       "</style>\n",
       "<table border=\"1\" class=\"dataframe\">\n",
       "  <thead>\n",
       "    <tr style=\"text-align: right;\">\n",
       "      <th></th>\n",
       "      <th>ticker</th>\n",
       "      <th>freq</th>\n",
       "      <th>indicator</th>\n",
       "    </tr>\n",
       "  </thead>\n",
       "  <tbody>\n",
       "    <tr>\n",
       "      <th>0</th>\n",
       "      <td>20MICRONS</td>\n",
       "      <td>A</td>\n",
       "      <td>ACCRUALS</td>\n",
       "    </tr>\n",
       "    <tr>\n",
       "      <th>1</th>\n",
       "      <td>20MICRONS</td>\n",
       "      <td>A</td>\n",
       "      <td>ACCRUALS</td>\n",
       "    </tr>\n",
       "    <tr>\n",
       "      <th>2</th>\n",
       "      <td>20MICRONS</td>\n",
       "      <td>A</td>\n",
       "      <td>ACCRUALS</td>\n",
       "    </tr>\n",
       "    <tr>\n",
       "      <th>3</th>\n",
       "      <td>20MICRONS</td>\n",
       "      <td>A</td>\n",
       "      <td>ACCRUALS</td>\n",
       "    </tr>\n",
       "    <tr>\n",
       "      <th>4</th>\n",
       "      <td>20MICRONS</td>\n",
       "      <td>A</td>\n",
       "      <td>ACCRUALS</td>\n",
       "    </tr>\n",
       "  </tbody>\n",
       "</table>\n",
       "</div>"
      ],
      "text/plain": [
       "      ticker freq indicator\n",
       "0  20MICRONS    A  ACCRUALS\n",
       "1  20MICRONS    A  ACCRUALS\n",
       "2  20MICRONS    A  ACCRUALS\n",
       "3  20MICRONS    A  ACCRUALS\n",
       "4  20MICRONS    A  ACCRUALS"
      ]
     },
     "execution_count": 25,
     "metadata": {},
     "output_type": "execute_result"
    }
   ],
   "source": [
    "# success: the 3rd and 4th items are merged back like CFO_DEBT \n",
    "#ok time to convert this into a dataframe\n",
    "splitfeature_df = pd.DataFrame(splitfeature.tolist(),columns = ['ticker','freq','indicator'])\n",
    "#pd.DataFrame(splitfeature.tolist(),columns = {'ticker','freq','indicator'}), dfsmall],axis=1)\n",
    "splitfeature_df.head()"
   ]
  },
  {
   "cell_type": "code",
   "execution_count": 49,
   "metadata": {},
   "outputs": [
    {
     "data": {
      "text/plain": [
       "(9191479, 4)"
      ]
     },
     "execution_count": 49,
     "metadata": {},
     "output_type": "execute_result"
    }
   ],
   "source": [
    "dfsmall.shape"
   ]
  },
  {
   "cell_type": "code",
   "execution_count": 50,
   "metadata": {},
   "outputs": [
    {
     "data": {
      "text/html": [
       "<div>\n",
       "<style>\n",
       "    .dataframe thead tr:only-child th {\n",
       "        text-align: right;\n",
       "    }\n",
       "\n",
       "    .dataframe thead th {\n",
       "        text-align: left;\n",
       "    }\n",
       "\n",
       "    .dataframe tbody tr th {\n",
       "        vertical-align: top;\n",
       "    }\n",
       "</style>\n",
       "<table border=\"1\" class=\"dataframe\">\n",
       "  <thead>\n",
       "    <tr style=\"text-align: right;\">\n",
       "      <th></th>\n",
       "      <th>dataname</th>\n",
       "      <th>date</th>\n",
       "      <th>standalone</th>\n",
       "      <th>consolidated</th>\n",
       "      <th>ticker</th>\n",
       "      <th>freq</th>\n",
       "      <th>indicator</th>\n",
       "    </tr>\n",
       "  </thead>\n",
       "  <tbody>\n",
       "    <tr>\n",
       "      <th>0</th>\n",
       "      <td>20MICRONS_A_ACCRUALS</td>\n",
       "      <td>2005-03-31</td>\n",
       "      <td>-10.44</td>\n",
       "      <td>NaN</td>\n",
       "      <td>20MICRONS</td>\n",
       "      <td>A</td>\n",
       "      <td>ACCRUALS</td>\n",
       "    </tr>\n",
       "    <tr>\n",
       "      <th>1</th>\n",
       "      <td>20MICRONS_A_ACCRUALS</td>\n",
       "      <td>2006-03-31</td>\n",
       "      <td>0.44</td>\n",
       "      <td>NaN</td>\n",
       "      <td>20MICRONS</td>\n",
       "      <td>A</td>\n",
       "      <td>ACCRUALS</td>\n",
       "    </tr>\n",
       "    <tr>\n",
       "      <th>2</th>\n",
       "      <td>20MICRONS_A_ACCRUALS</td>\n",
       "      <td>2007-03-31</td>\n",
       "      <td>-2.61</td>\n",
       "      <td>NaN</td>\n",
       "      <td>20MICRONS</td>\n",
       "      <td>A</td>\n",
       "      <td>ACCRUALS</td>\n",
       "    </tr>\n",
       "    <tr>\n",
       "      <th>3</th>\n",
       "      <td>20MICRONS_A_ACCRUALS</td>\n",
       "      <td>2008-03-31</td>\n",
       "      <td>-2.54</td>\n",
       "      <td>NaN</td>\n",
       "      <td>20MICRONS</td>\n",
       "      <td>A</td>\n",
       "      <td>ACCRUALS</td>\n",
       "    </tr>\n",
       "    <tr>\n",
       "      <th>4</th>\n",
       "      <td>20MICRONS_A_ACCRUALS</td>\n",
       "      <td>2009-03-31</td>\n",
       "      <td>1.00</td>\n",
       "      <td>0.84</td>\n",
       "      <td>20MICRONS</td>\n",
       "      <td>A</td>\n",
       "      <td>ACCRUALS</td>\n",
       "    </tr>\n",
       "  </tbody>\n",
       "</table>\n",
       "</div>"
      ],
      "text/plain": [
       "               dataname       date  standalone  consolidated     ticker freq  \\\n",
       "0  20MICRONS_A_ACCRUALS 2005-03-31      -10.44           NaN  20MICRONS    A   \n",
       "1  20MICRONS_A_ACCRUALS 2006-03-31        0.44           NaN  20MICRONS    A   \n",
       "2  20MICRONS_A_ACCRUALS 2007-03-31       -2.61           NaN  20MICRONS    A   \n",
       "3  20MICRONS_A_ACCRUALS 2008-03-31       -2.54           NaN  20MICRONS    A   \n",
       "4  20MICRONS_A_ACCRUALS 2009-03-31        1.00          0.84  20MICRONS    A   \n",
       "\n",
       "  indicator  \n",
       "0  ACCRUALS  \n",
       "1  ACCRUALS  \n",
       "2  ACCRUALS  \n",
       "3  ACCRUALS  \n",
       "4  ACCRUALS  "
      ]
     },
     "execution_count": 50,
     "metadata": {},
     "output_type": "execute_result"
    }
   ],
   "source": [
    "pd.concat([dfsmall, splitfeature_df], axis = 1).head(5) #Ah, understood why this is not working. The indices are different!"
   ]
  },
  {
   "cell_type": "code",
   "execution_count": 26,
   "metadata": {
    "collapsed": true
   },
   "outputs": [],
   "source": [
    "#Make indices same\n",
    "splitfeature_df.set_index(dfsmall.index,inplace=True)\n"
   ]
  },
  {
   "cell_type": "code",
   "execution_count": 27,
   "metadata": {},
   "outputs": [
    {
     "data": {
      "text/html": [
       "<div>\n",
       "<style>\n",
       "    .dataframe thead tr:only-child th {\n",
       "        text-align: right;\n",
       "    }\n",
       "\n",
       "    .dataframe thead th {\n",
       "        text-align: left;\n",
       "    }\n",
       "\n",
       "    .dataframe tbody tr th {\n",
       "        vertical-align: top;\n",
       "    }\n",
       "</style>\n",
       "<table border=\"1\" class=\"dataframe\">\n",
       "  <thead>\n",
       "    <tr style=\"text-align: right;\">\n",
       "      <th></th>\n",
       "      <th>dataname</th>\n",
       "      <th>date</th>\n",
       "      <th>standalone</th>\n",
       "      <th>consolidated</th>\n",
       "      <th>ticker</th>\n",
       "      <th>freq</th>\n",
       "      <th>indicator</th>\n",
       "    </tr>\n",
       "  </thead>\n",
       "  <tbody>\n",
       "    <tr>\n",
       "      <th>0</th>\n",
       "      <td>20MICRONS_A_ACCRUALS</td>\n",
       "      <td>2005-03-31</td>\n",
       "      <td>-10.44</td>\n",
       "      <td>NaN</td>\n",
       "      <td>20MICRONS</td>\n",
       "      <td>A</td>\n",
       "      <td>ACCRUALS</td>\n",
       "    </tr>\n",
       "    <tr>\n",
       "      <th>1</th>\n",
       "      <td>20MICRONS_A_ACCRUALS</td>\n",
       "      <td>2006-03-31</td>\n",
       "      <td>0.44</td>\n",
       "      <td>NaN</td>\n",
       "      <td>20MICRONS</td>\n",
       "      <td>A</td>\n",
       "      <td>ACCRUALS</td>\n",
       "    </tr>\n",
       "    <tr>\n",
       "      <th>2</th>\n",
       "      <td>20MICRONS_A_ACCRUALS</td>\n",
       "      <td>2007-03-31</td>\n",
       "      <td>-2.61</td>\n",
       "      <td>NaN</td>\n",
       "      <td>20MICRONS</td>\n",
       "      <td>A</td>\n",
       "      <td>ACCRUALS</td>\n",
       "    </tr>\n",
       "    <tr>\n",
       "      <th>3</th>\n",
       "      <td>20MICRONS_A_ACCRUALS</td>\n",
       "      <td>2008-03-31</td>\n",
       "      <td>-2.54</td>\n",
       "      <td>NaN</td>\n",
       "      <td>20MICRONS</td>\n",
       "      <td>A</td>\n",
       "      <td>ACCRUALS</td>\n",
       "    </tr>\n",
       "    <tr>\n",
       "      <th>4</th>\n",
       "      <td>20MICRONS_A_ACCRUALS</td>\n",
       "      <td>2009-03-31</td>\n",
       "      <td>1.00</td>\n",
       "      <td>0.84</td>\n",
       "      <td>20MICRONS</td>\n",
       "      <td>A</td>\n",
       "      <td>ACCRUALS</td>\n",
       "    </tr>\n",
       "  </tbody>\n",
       "</table>\n",
       "</div>"
      ],
      "text/plain": [
       "               dataname       date  standalone  consolidated     ticker freq  \\\n",
       "0  20MICRONS_A_ACCRUALS 2005-03-31      -10.44           NaN  20MICRONS    A   \n",
       "1  20MICRONS_A_ACCRUALS 2006-03-31        0.44           NaN  20MICRONS    A   \n",
       "2  20MICRONS_A_ACCRUALS 2007-03-31       -2.61           NaN  20MICRONS    A   \n",
       "3  20MICRONS_A_ACCRUALS 2008-03-31       -2.54           NaN  20MICRONS    A   \n",
       "4  20MICRONS_A_ACCRUALS 2009-03-31        1.00          0.84  20MICRONS    A   \n",
       "\n",
       "  indicator  \n",
       "0  ACCRUALS  \n",
       "1  ACCRUALS  \n",
       "2  ACCRUALS  \n",
       "3  ACCRUALS  \n",
       "4  ACCRUALS  "
      ]
     },
     "execution_count": 27,
     "metadata": {},
     "output_type": "execute_result"
    }
   ],
   "source": [
    "#now put them next to each other\n",
    "dfsmall_split = pd.concat([dfsmall, splitfeature_df], axis = 1)\n",
    "dfsmall_split.head(5)"
   ]
  },
  {
   "cell_type": "code",
   "execution_count": 28,
   "metadata": {},
   "outputs": [
    {
     "data": {
      "text/html": [
       "<div>\n",
       "<style>\n",
       "    .dataframe thead tr:only-child th {\n",
       "        text-align: right;\n",
       "    }\n",
       "\n",
       "    .dataframe thead th {\n",
       "        text-align: left;\n",
       "    }\n",
       "\n",
       "    .dataframe tbody tr th {\n",
       "        vertical-align: top;\n",
       "    }\n",
       "</style>\n",
       "<table border=\"1\" class=\"dataframe\">\n",
       "  <thead>\n",
       "    <tr style=\"text-align: right;\">\n",
       "      <th></th>\n",
       "      <th>date</th>\n",
       "      <th>ticker</th>\n",
       "      <th>freq</th>\n",
       "      <th>indicator</th>\n",
       "      <th>standalone</th>\n",
       "      <th>consolidated</th>\n",
       "    </tr>\n",
       "  </thead>\n",
       "  <tbody>\n",
       "    <tr>\n",
       "      <th>0</th>\n",
       "      <td>2005-03-31</td>\n",
       "      <td>20MICRONS</td>\n",
       "      <td>A</td>\n",
       "      <td>ACCRUALS</td>\n",
       "      <td>-10.44</td>\n",
       "      <td>NaN</td>\n",
       "    </tr>\n",
       "    <tr>\n",
       "      <th>1</th>\n",
       "      <td>2006-03-31</td>\n",
       "      <td>20MICRONS</td>\n",
       "      <td>A</td>\n",
       "      <td>ACCRUALS</td>\n",
       "      <td>0.44</td>\n",
       "      <td>NaN</td>\n",
       "    </tr>\n",
       "    <tr>\n",
       "      <th>2</th>\n",
       "      <td>2007-03-31</td>\n",
       "      <td>20MICRONS</td>\n",
       "      <td>A</td>\n",
       "      <td>ACCRUALS</td>\n",
       "      <td>-2.61</td>\n",
       "      <td>NaN</td>\n",
       "    </tr>\n",
       "    <tr>\n",
       "      <th>3</th>\n",
       "      <td>2008-03-31</td>\n",
       "      <td>20MICRONS</td>\n",
       "      <td>A</td>\n",
       "      <td>ACCRUALS</td>\n",
       "      <td>-2.54</td>\n",
       "      <td>NaN</td>\n",
       "    </tr>\n",
       "    <tr>\n",
       "      <th>4</th>\n",
       "      <td>2009-03-31</td>\n",
       "      <td>20MICRONS</td>\n",
       "      <td>A</td>\n",
       "      <td>ACCRUALS</td>\n",
       "      <td>1.00</td>\n",
       "      <td>0.84</td>\n",
       "    </tr>\n",
       "  </tbody>\n",
       "</table>\n",
       "</div>"
      ],
      "text/plain": [
       "        date     ticker freq indicator  standalone  consolidated\n",
       "0 2005-03-31  20MICRONS    A  ACCRUALS      -10.44           NaN\n",
       "1 2006-03-31  20MICRONS    A  ACCRUALS        0.44           NaN\n",
       "2 2007-03-31  20MICRONS    A  ACCRUALS       -2.61           NaN\n",
       "3 2008-03-31  20MICRONS    A  ACCRUALS       -2.54           NaN\n",
       "4 2009-03-31  20MICRONS    A  ACCRUALS        1.00          0.84"
      ]
     },
     "execution_count": 28,
     "metadata": {},
     "output_type": "execute_result"
    }
   ],
   "source": [
    "#ok, we can verify above that dataname has been broken correctly into ticker freq and indicator\n",
    "#now, drop the redundant dataname and reorder columns\n",
    "dfn = dfsmall_split[['date', 'ticker', 'freq', 'indicator','standalone', 'consolidated']]\n",
    "dfn.head(5)"
   ]
  },
  {
   "cell_type": "code",
   "execution_count": 54,
   "metadata": {},
   "outputs": [
    {
     "data": {
      "text/plain": [
       "(9191479, 6)"
      ]
     },
     "execution_count": 54,
     "metadata": {},
     "output_type": "execute_result"
    }
   ],
   "source": [
    "dfn.shape"
   ]
  },
  {
   "cell_type": "code",
   "execution_count": 29,
   "metadata": {
    "collapsed": true
   },
   "outputs": [],
   "source": [
    "#dfn.to_pickle('fundamental_data_dfn.pkl')"
   ]
  },
  {
   "cell_type": "code",
   "execution_count": 55,
   "metadata": {},
   "outputs": [
    {
     "data": {
      "text/plain": [
       "True"
      ]
     },
     "execution_count": 55,
     "metadata": {},
     "output_type": "execute_result"
    }
   ],
   "source": [
    "all(dfn.index == dfsmall.index)"
   ]
  },
  {
   "cell_type": "code",
   "execution_count": 56,
   "metadata": {},
   "outputs": [
    {
     "data": {
      "text/plain": [
       "Int64Index([ 0,  1,  2,  3,  4,  5,  6,  7,  8,  9, 10, 11, 12, 13, 14, 15, 16,\n",
       "            17, 18, 19, 20, 21, 22, 23, 24, 25, 26, 27, 28, 29, 30, 31, 32, 33,\n",
       "            34, 35, 36, 37, 38, 39, 40, 41, 42, 43, 44, 45, 46, 47, 48, 49, 50,\n",
       "            51, 52, 53, 54, 55, 56, 57, 58, 59, 60, 61, 62, 63, 64, 65, 66, 67,\n",
       "            68, 69, 70, 71, 72, 73, 74, 75, 76, 77, 78, 79, 80, 81, 82, 83, 84,\n",
       "            85, 86, 87, 88, 89, 90, 91, 92, 93, 94, 95, 96, 97, 98, 99],\n",
       "           dtype='int64')"
      ]
     },
     "execution_count": 56,
     "metadata": {},
     "output_type": "execute_result"
    }
   ],
   "source": [
    "#Why are these index values not consecutive? \n",
    "dfn.index[0:100]"
   ]
  },
  {
   "cell_type": "code",
   "execution_count": null,
   "metadata": {},
   "outputs": [],
   "source": [
    "df.index[0:1000] #wow, these are all consecutive but if you take dates > some date, then they are no longer consecutive. "
   ]
  },
  {
   "cell_type": "code",
   "execution_count": 26,
   "metadata": {},
   "outputs": [],
   "source": [
    "#ok, so it clearly means that the original data is not sorted by date. let us do the sorting of the dfn. \n",
    "dfn = dfn.sort_values(['date','ticker','freq','indicator'])"
   ]
  },
  {
   "cell_type": "code",
   "execution_count": 57,
   "metadata": {},
   "outputs": [],
   "source": [
    "#dfn.to_pickle('fundamental_data_dfn.pkl')"
   ]
  },
  {
   "cell_type": "code",
   "execution_count": 4,
   "metadata": {},
   "outputs": [],
   "source": [
    "dfn = pd.read_pickle('fundamental_data_dfn.pkl')"
   ]
  },
  {
   "cell_type": "code",
   "execution_count": 5,
   "metadata": {},
   "outputs": [
    {
     "data": {
      "text/plain": [
       "date            9191479\n",
       "ticker          9191479\n",
       "freq            9191479\n",
       "indicator       9191479\n",
       "standalone      9167825\n",
       "consolidated    2494348\n",
       "dtype: int64"
      ]
     },
     "execution_count": 5,
     "metadata": {},
     "output_type": "execute_result"
    }
   ],
   "source": [
    "dfn.count()"
   ]
  },
  {
   "cell_type": "code",
   "execution_count": 6,
   "metadata": {},
   "outputs": [
    {
     "data": {
      "text/plain": [
       "4162"
      ]
     },
     "execution_count": 6,
     "metadata": {},
     "output_type": "execute_result"
    }
   ],
   "source": [
    "#how many tickers are there in the data? \n",
    "len(dfn.ticker.unique())"
   ]
  },
  {
   "cell_type": "code",
   "execution_count": 7,
   "metadata": {},
   "outputs": [
    {
     "data": {
      "text/plain": [
       "<matplotlib.text.Text at 0x18e8f410198>"
      ]
     },
     "execution_count": 7,
     "metadata": {},
     "output_type": "execute_result"
    },
    {
     "data": {
      "image/png": "[encoded data removed]",
      "text/plain": [
       "<matplotlib.figure.Figure at 0x18e8f3cd710>"
      ]
     },
     "metadata": {},
     "output_type": "display_data"
    }
   ],
   "source": [
    "#how many distinct indicators are present per ticker, sort them and plot \n",
    "tickerIndicators = dfn.groupby('ticker').apply(lambda x: len(x.indicator.unique()))\n",
    "tickerIndicators.sort_values(ascending=True,inplace=True)\n",
    "plt.plot(tickerIndicators.values)\n",
    "plt.ylabel('# unique indicators') \n",
    "plt.xlabel('stock id sorted') "
   ]
  },
  {
   "cell_type": "code",
   "execution_count": 9,
   "metadata": {},
   "outputs": [
    {
     "data": {
      "text/html": [
       "<div>\n",
       "<style>\n",
       "    .dataframe thead tr:only-child th {\n",
       "        text-align: right;\n",
       "    }\n",
       "\n",
       "    .dataframe thead th {\n",
       "        text-align: left;\n",
       "    }\n",
       "\n",
       "    .dataframe tbody tr th {\n",
       "        vertical-align: top;\n",
       "    }\n",
       "</style>\n",
       "<table border=\"1\" class=\"dataframe\">\n",
       "  <thead>\n",
       "    <tr style=\"text-align: right;\">\n",
       "      <th></th>\n",
       "      <th>date</th>\n",
       "      <th>ticker</th>\n",
       "      <th>freq</th>\n",
       "      <th>indicator</th>\n",
       "      <th>standalone</th>\n",
       "      <th>consolidated</th>\n",
       "    </tr>\n",
       "    <tr>\n",
       "      <th>indicator</th>\n",
       "      <th></th>\n",
       "      <th></th>\n",
       "      <th></th>\n",
       "      <th></th>\n",
       "      <th></th>\n",
       "      <th></th>\n",
       "    </tr>\n",
       "  </thead>\n",
       "  <tbody>\n",
       "    <tr>\n",
       "      <th>ACCRUALS</th>\n",
       "      <td>0</td>\n",
       "      <td>0</td>\n",
       "      <td>0</td>\n",
       "      <td>0</td>\n",
       "      <td>0</td>\n",
       "      <td>29650</td>\n",
       "    </tr>\n",
       "    <tr>\n",
       "      <th>ADJCLOS</th>\n",
       "      <td>0</td>\n",
       "      <td>0</td>\n",
       "      <td>0</td>\n",
       "      <td>0</td>\n",
       "      <td>0</td>\n",
       "      <td>15359</td>\n",
       "    </tr>\n",
       "    <tr>\n",
       "      <th>ADV</th>\n",
       "      <td>0</td>\n",
       "      <td>0</td>\n",
       "      <td>0</td>\n",
       "      <td>0</td>\n",
       "      <td>0</td>\n",
       "      <td>110</td>\n",
       "    </tr>\n",
       "    <tr>\n",
       "      <th>ADVYIELD</th>\n",
       "      <td>0</td>\n",
       "      <td>0</td>\n",
       "      <td>0</td>\n",
       "      <td>0</td>\n",
       "      <td>0</td>\n",
       "      <td>112</td>\n",
       "    </tr>\n",
       "    <tr>\n",
       "      <th>AE</th>\n",
       "      <td>0</td>\n",
       "      <td>0</td>\n",
       "      <td>0</td>\n",
       "      <td>0</td>\n",
       "      <td>0</td>\n",
       "      <td>30365</td>\n",
       "    </tr>\n",
       "    <tr>\n",
       "      <th>ASETTO</th>\n",
       "      <td>0</td>\n",
       "      <td>0</td>\n",
       "      <td>0</td>\n",
       "      <td>0</td>\n",
       "      <td>0</td>\n",
       "      <td>30379</td>\n",
       "    </tr>\n",
       "    <tr>\n",
       "      <th>ASSOC</th>\n",
       "      <td>0</td>\n",
       "      <td>0</td>\n",
       "      <td>0</td>\n",
       "      <td>0</td>\n",
       "      <td>6040</td>\n",
       "      <td>0</td>\n",
       "    </tr>\n",
       "    <tr>\n",
       "      <th>ATM</th>\n",
       "      <td>0</td>\n",
       "      <td>0</td>\n",
       "      <td>0</td>\n",
       "      <td>0</td>\n",
       "      <td>0</td>\n",
       "      <td>281</td>\n",
       "    </tr>\n",
       "    <tr>\n",
       "      <th>BBETA</th>\n",
       "      <td>0</td>\n",
       "      <td>0</td>\n",
       "      <td>0</td>\n",
       "      <td>0</td>\n",
       "      <td>5</td>\n",
       "      <td>16806</td>\n",
       "    </tr>\n",
       "    <tr>\n",
       "      <th>BRANCH</th>\n",
       "      <td>0</td>\n",
       "      <td>0</td>\n",
       "      <td>0</td>\n",
       "      <td>0</td>\n",
       "      <td>0</td>\n",
       "      <td>310</td>\n",
       "    </tr>\n",
       "    <tr>\n",
       "      <th>BSEC</th>\n",
       "      <td>0</td>\n",
       "      <td>0</td>\n",
       "      <td>0</td>\n",
       "      <td>0</td>\n",
       "      <td>0</td>\n",
       "      <td>70858</td>\n",
       "    </tr>\n",
       "    <tr>\n",
       "      <th>BSEH</th>\n",
       "      <td>0</td>\n",
       "      <td>0</td>\n",
       "      <td>0</td>\n",
       "      <td>0</td>\n",
       "      <td>0</td>\n",
       "      <td>70827</td>\n",
       "    </tr>\n",
       "    <tr>\n",
       "      <th>BSEL</th>\n",
       "      <td>0</td>\n",
       "      <td>0</td>\n",
       "      <td>0</td>\n",
       "      <td>0</td>\n",
       "      <td>0</td>\n",
       "      <td>70827</td>\n",
       "    </tr>\n",
       "    <tr>\n",
       "      <th>BSEO</th>\n",
       "      <td>0</td>\n",
       "      <td>0</td>\n",
       "      <td>0</td>\n",
       "      <td>0</td>\n",
       "      <td>0</td>\n",
       "      <td>70827</td>\n",
       "    </tr>\n",
       "    <tr>\n",
       "      <th>BSEVOL</th>\n",
       "      <td>0</td>\n",
       "      <td>0</td>\n",
       "      <td>0</td>\n",
       "      <td>0</td>\n",
       "      <td>0</td>\n",
       "      <td>70801</td>\n",
       "    </tr>\n",
       "    <tr>\n",
       "      <th>BVSH</th>\n",
       "      <td>0</td>\n",
       "      <td>0</td>\n",
       "      <td>0</td>\n",
       "      <td>0</td>\n",
       "      <td>1</td>\n",
       "      <td>31072</td>\n",
       "    </tr>\n",
       "    <tr>\n",
       "      <th>BVSH1</th>\n",
       "      <td>0</td>\n",
       "      <td>0</td>\n",
       "      <td>0</td>\n",
       "      <td>0</td>\n",
       "      <td>2</td>\n",
       "      <td>27965</td>\n",
       "    </tr>\n",
       "    <tr>\n",
       "      <th>BVSH3</th>\n",
       "      <td>0</td>\n",
       "      <td>0</td>\n",
       "      <td>0</td>\n",
       "      <td>0</td>\n",
       "      <td>1</td>\n",
       "      <td>23178</td>\n",
       "    </tr>\n",
       "    <tr>\n",
       "      <th>BVSH5</th>\n",
       "      <td>0</td>\n",
       "      <td>0</td>\n",
       "      <td>0</td>\n",
       "      <td>0</td>\n",
       "      <td>1</td>\n",
       "      <td>18064</td>\n",
       "    </tr>\n",
       "    <tr>\n",
       "      <th>CA</th>\n",
       "      <td>0</td>\n",
       "      <td>0</td>\n",
       "      <td>0</td>\n",
       "      <td>0</td>\n",
       "      <td>0</td>\n",
       "      <td>30399</td>\n",
       "    </tr>\n",
       "    <tr>\n",
       "      <th>CAPADQ</th>\n",
       "      <td>0</td>\n",
       "      <td>0</td>\n",
       "      <td>0</td>\n",
       "      <td>0</td>\n",
       "      <td>0</td>\n",
       "      <td>409</td>\n",
       "    </tr>\n",
       "    <tr>\n",
       "      <th>CAPRATIO</th>\n",
       "      <td>0</td>\n",
       "      <td>0</td>\n",
       "      <td>0</td>\n",
       "      <td>0</td>\n",
       "      <td>1</td>\n",
       "      <td>31243</td>\n",
       "    </tr>\n",
       "    <tr>\n",
       "      <th>CASA</th>\n",
       "      <td>0</td>\n",
       "      <td>0</td>\n",
       "      <td>0</td>\n",
       "      <td>0</td>\n",
       "      <td>0</td>\n",
       "      <td>341</td>\n",
       "    </tr>\n",
       "    <tr>\n",
       "      <th>CASARAT</th>\n",
       "      <td>0</td>\n",
       "      <td>0</td>\n",
       "      <td>0</td>\n",
       "      <td>0</td>\n",
       "      <td>0</td>\n",
       "      <td>454</td>\n",
       "    </tr>\n",
       "    <tr>\n",
       "      <th>CASH</th>\n",
       "      <td>0</td>\n",
       "      <td>0</td>\n",
       "      <td>0</td>\n",
       "      <td>0</td>\n",
       "      <td>0</td>\n",
       "      <td>30084</td>\n",
       "    </tr>\n",
       "    <tr>\n",
       "      <th>CASHDEBT</th>\n",
       "      <td>0</td>\n",
       "      <td>0</td>\n",
       "      <td>0</td>\n",
       "      <td>0</td>\n",
       "      <td>0</td>\n",
       "      <td>23285</td>\n",
       "    </tr>\n",
       "    <tr>\n",
       "      <th>CASHRATIO</th>\n",
       "      <td>0</td>\n",
       "      <td>0</td>\n",
       "      <td>0</td>\n",
       "      <td>0</td>\n",
       "      <td>0</td>\n",
       "      <td>29422</td>\n",
       "    </tr>\n",
       "    <tr>\n",
       "      <th>CASHTO</th>\n",
       "      <td>0</td>\n",
       "      <td>0</td>\n",
       "      <td>0</td>\n",
       "      <td>0</td>\n",
       "      <td>0</td>\n",
       "      <td>28923</td>\n",
       "    </tr>\n",
       "    <tr>\n",
       "      <th>CE</th>\n",
       "      <td>0</td>\n",
       "      <td>0</td>\n",
       "      <td>0</td>\n",
       "      <td>0</td>\n",
       "      <td>0</td>\n",
       "      <td>31280</td>\n",
       "    </tr>\n",
       "    <tr>\n",
       "      <th>CEPS</th>\n",
       "      <td>0</td>\n",
       "      <td>0</td>\n",
       "      <td>0</td>\n",
       "      <td>0</td>\n",
       "      <td>11</td>\n",
       "      <td>30510</td>\n",
       "    </tr>\n",
       "    <tr>\n",
       "      <th>...</th>\n",
       "      <td>...</td>\n",
       "      <td>...</td>\n",
       "      <td>...</td>\n",
       "      <td>...</td>\n",
       "      <td>...</td>\n",
       "      <td>...</td>\n",
       "    </tr>\n",
       "    <tr>\n",
       "      <th>REVSH1Q</th>\n",
       "      <td>0</td>\n",
       "      <td>0</td>\n",
       "      <td>0</td>\n",
       "      <td>0</td>\n",
       "      <td>262</td>\n",
       "      <td>47731</td>\n",
       "    </tr>\n",
       "    <tr>\n",
       "      <th>REVSH3</th>\n",
       "      <td>0</td>\n",
       "      <td>0</td>\n",
       "      <td>0</td>\n",
       "      <td>0</td>\n",
       "      <td>42</td>\n",
       "      <td>21003</td>\n",
       "    </tr>\n",
       "    <tr>\n",
       "      <th>REVSH4Q</th>\n",
       "      <td>0</td>\n",
       "      <td>0</td>\n",
       "      <td>0</td>\n",
       "      <td>0</td>\n",
       "      <td>215</td>\n",
       "      <td>39570</td>\n",
       "    </tr>\n",
       "    <tr>\n",
       "      <th>REVSH5</th>\n",
       "      <td>0</td>\n",
       "      <td>0</td>\n",
       "      <td>0</td>\n",
       "      <td>0</td>\n",
       "      <td>31</td>\n",
       "      <td>16460</td>\n",
       "    </tr>\n",
       "    <tr>\n",
       "      <th>REVSH8Q</th>\n",
       "      <td>0</td>\n",
       "      <td>0</td>\n",
       "      <td>0</td>\n",
       "      <td>0</td>\n",
       "      <td>145</td>\n",
       "      <td>28742</td>\n",
       "    </tr>\n",
       "    <tr>\n",
       "      <th>ROA</th>\n",
       "      <td>0</td>\n",
       "      <td>0</td>\n",
       "      <td>0</td>\n",
       "      <td>0</td>\n",
       "      <td>0</td>\n",
       "      <td>30238</td>\n",
       "    </tr>\n",
       "    <tr>\n",
       "      <th>ROCE</th>\n",
       "      <td>0</td>\n",
       "      <td>0</td>\n",
       "      <td>0</td>\n",
       "      <td>0</td>\n",
       "      <td>2</td>\n",
       "      <td>31232</td>\n",
       "    </tr>\n",
       "    <tr>\n",
       "      <th>ROE</th>\n",
       "      <td>0</td>\n",
       "      <td>0</td>\n",
       "      <td>0</td>\n",
       "      <td>0</td>\n",
       "      <td>3</td>\n",
       "      <td>31246</td>\n",
       "    </tr>\n",
       "    <tr>\n",
       "      <th>ROIC</th>\n",
       "      <td>0</td>\n",
       "      <td>0</td>\n",
       "      <td>0</td>\n",
       "      <td>0</td>\n",
       "      <td>0</td>\n",
       "      <td>29915</td>\n",
       "    </tr>\n",
       "    <tr>\n",
       "      <th>RSRV</th>\n",
       "      <td>0</td>\n",
       "      <td>0</td>\n",
       "      <td>0</td>\n",
       "      <td>0</td>\n",
       "      <td>0</td>\n",
       "      <td>31173</td>\n",
       "    </tr>\n",
       "    <tr>\n",
       "      <th>SDEBT</th>\n",
       "      <td>0</td>\n",
       "      <td>0</td>\n",
       "      <td>0</td>\n",
       "      <td>0</td>\n",
       "      <td>3</td>\n",
       "      <td>26190</td>\n",
       "    </tr>\n",
       "    <tr>\n",
       "      <th>SHARE</th>\n",
       "      <td>0</td>\n",
       "      <td>0</td>\n",
       "      <td>0</td>\n",
       "      <td>0</td>\n",
       "      <td>1</td>\n",
       "      <td>91243</td>\n",
       "    </tr>\n",
       "    <tr>\n",
       "      <th>SHARECAP</th>\n",
       "      <td>0</td>\n",
       "      <td>0</td>\n",
       "      <td>0</td>\n",
       "      <td>0</td>\n",
       "      <td>0</td>\n",
       "      <td>1622</td>\n",
       "    </tr>\n",
       "    <tr>\n",
       "      <th>SHAREFUND</th>\n",
       "      <td>0</td>\n",
       "      <td>0</td>\n",
       "      <td>0</td>\n",
       "      <td>0</td>\n",
       "      <td>0</td>\n",
       "      <td>30394</td>\n",
       "    </tr>\n",
       "    <tr>\n",
       "      <th>SOLRATIO</th>\n",
       "      <td>0</td>\n",
       "      <td>0</td>\n",
       "      <td>0</td>\n",
       "      <td>0</td>\n",
       "      <td>431</td>\n",
       "      <td>24079</td>\n",
       "    </tr>\n",
       "    <tr>\n",
       "      <th>SR</th>\n",
       "      <td>0</td>\n",
       "      <td>0</td>\n",
       "      <td>0</td>\n",
       "      <td>0</td>\n",
       "      <td>1</td>\n",
       "      <td>91980</td>\n",
       "    </tr>\n",
       "    <tr>\n",
       "      <th>STLOAN</th>\n",
       "      <td>0</td>\n",
       "      <td>0</td>\n",
       "      <td>0</td>\n",
       "      <td>0</td>\n",
       "      <td>0</td>\n",
       "      <td>1622</td>\n",
       "    </tr>\n",
       "    <tr>\n",
       "      <th>TA</th>\n",
       "      <td>0</td>\n",
       "      <td>0</td>\n",
       "      <td>0</td>\n",
       "      <td>0</td>\n",
       "      <td>0</td>\n",
       "      <td>30394</td>\n",
       "    </tr>\n",
       "    <tr>\n",
       "      <th>TAX</th>\n",
       "      <td>0</td>\n",
       "      <td>0</td>\n",
       "      <td>0</td>\n",
       "      <td>0</td>\n",
       "      <td>1</td>\n",
       "      <td>91980</td>\n",
       "    </tr>\n",
       "    <tr>\n",
       "      <th>TI</th>\n",
       "      <td>0</td>\n",
       "      <td>0</td>\n",
       "      <td>0</td>\n",
       "      <td>0</td>\n",
       "      <td>1</td>\n",
       "      <td>91657</td>\n",
       "    </tr>\n",
       "    <tr>\n",
       "      <th>TIER1</th>\n",
       "      <td>0</td>\n",
       "      <td>0</td>\n",
       "      <td>0</td>\n",
       "      <td>0</td>\n",
       "      <td>0</td>\n",
       "      <td>202</td>\n",
       "    </tr>\n",
       "    <tr>\n",
       "      <th>TIER2</th>\n",
       "      <td>0</td>\n",
       "      <td>0</td>\n",
       "      <td>0</td>\n",
       "      <td>0</td>\n",
       "      <td>0</td>\n",
       "      <td>202</td>\n",
       "    </tr>\n",
       "    <tr>\n",
       "      <th>TIMINT</th>\n",
       "      <td>0</td>\n",
       "      <td>0</td>\n",
       "      <td>0</td>\n",
       "      <td>0</td>\n",
       "      <td>204</td>\n",
       "      <td>22002</td>\n",
       "    </tr>\n",
       "    <tr>\n",
       "      <th>TL</th>\n",
       "      <td>0</td>\n",
       "      <td>0</td>\n",
       "      <td>0</td>\n",
       "      <td>0</td>\n",
       "      <td>0</td>\n",
       "      <td>30503</td>\n",
       "    </tr>\n",
       "    <tr>\n",
       "      <th>UDEBT</th>\n",
       "      <td>0</td>\n",
       "      <td>0</td>\n",
       "      <td>0</td>\n",
       "      <td>0</td>\n",
       "      <td>3</td>\n",
       "      <td>26190</td>\n",
       "    </tr>\n",
       "    <tr>\n",
       "      <th>WACC</th>\n",
       "      <td>0</td>\n",
       "      <td>0</td>\n",
       "      <td>0</td>\n",
       "      <td>0</td>\n",
       "      <td>74</td>\n",
       "      <td>19518</td>\n",
       "    </tr>\n",
       "    <tr>\n",
       "      <th>WC</th>\n",
       "      <td>0</td>\n",
       "      <td>0</td>\n",
       "      <td>0</td>\n",
       "      <td>0</td>\n",
       "      <td>0</td>\n",
       "      <td>31282</td>\n",
       "    </tr>\n",
       "    <tr>\n",
       "      <th>WCTO</th>\n",
       "      <td>0</td>\n",
       "      <td>0</td>\n",
       "      <td>0</td>\n",
       "      <td>0</td>\n",
       "      <td>0</td>\n",
       "      <td>30313</td>\n",
       "    </tr>\n",
       "    <tr>\n",
       "      <th>WD</th>\n",
       "      <td>0</td>\n",
       "      <td>0</td>\n",
       "      <td>0</td>\n",
       "      <td>0</td>\n",
       "      <td>3</td>\n",
       "      <td>23061</td>\n",
       "    </tr>\n",
       "    <tr>\n",
       "      <th>WE</th>\n",
       "      <td>0</td>\n",
       "      <td>0</td>\n",
       "      <td>0</td>\n",
       "      <td>0</td>\n",
       "      <td>3</td>\n",
       "      <td>23061</td>\n",
       "    </tr>\n",
       "  </tbody>\n",
       "</table>\n",
       "<p>214 rows × 6 columns</p>\n",
       "</div>"
      ],
      "text/plain": [
       "           date  ticker  freq  indicator  standalone  consolidated\n",
       "indicator                                                         \n",
       "ACCRUALS      0       0     0          0           0         29650\n",
       "ADJCLOS       0       0     0          0           0         15359\n",
       "ADV           0       0     0          0           0           110\n",
       "ADVYIELD      0       0     0          0           0           112\n",
       "AE            0       0     0          0           0         30365\n",
       "ASETTO        0       0     0          0           0         30379\n",
       "ASSOC         0       0     0          0        6040             0\n",
       "ATM           0       0     0          0           0           281\n",
       "BBETA         0       0     0          0           5         16806\n",
       "BRANCH        0       0     0          0           0           310\n",
       "BSEC          0       0     0          0           0         70858\n",
       "BSEH          0       0     0          0           0         70827\n",
       "BSEL          0       0     0          0           0         70827\n",
       "BSEO          0       0     0          0           0         70827\n",
       "BSEVOL        0       0     0          0           0         70801\n",
       "BVSH          0       0     0          0           1         31072\n",
       "BVSH1         0       0     0          0           2         27965\n",
       "BVSH3         0       0     0          0           1         23178\n",
       "BVSH5         0       0     0          0           1         18064\n",
       "CA            0       0     0          0           0         30399\n",
       "CAPADQ        0       0     0          0           0           409\n",
       "CAPRATIO      0       0     0          0           1         31243\n",
       "CASA          0       0     0          0           0           341\n",
       "CASARAT       0       0     0          0           0           454\n",
       "CASH          0       0     0          0           0         30084\n",
       "CASHDEBT      0       0     0          0           0         23285\n",
       "CASHRATIO     0       0     0          0           0         29422\n",
       "CASHTO        0       0     0          0           0         28923\n",
       "CE            0       0     0          0           0         31280\n",
       "CEPS          0       0     0          0          11         30510\n",
       "...         ...     ...   ...        ...         ...           ...\n",
       "REVSH1Q       0       0     0          0         262         47731\n",
       "REVSH3        0       0     0          0          42         21003\n",
       "REVSH4Q       0       0     0          0         215         39570\n",
       "REVSH5        0       0     0          0          31         16460\n",
       "REVSH8Q       0       0     0          0         145         28742\n",
       "ROA           0       0     0          0           0         30238\n",
       "ROCE          0       0     0          0           2         31232\n",
       "ROE           0       0     0          0           3         31246\n",
       "ROIC          0       0     0          0           0         29915\n",
       "RSRV          0       0     0          0           0         31173\n",
       "SDEBT         0       0     0          0           3         26190\n",
       "SHARE         0       0     0          0           1         91243\n",
       "SHARECAP      0       0     0          0           0          1622\n",
       "SHAREFUND     0       0     0          0           0         30394\n",
       "SOLRATIO      0       0     0          0         431         24079\n",
       "SR            0       0     0          0           1         91980\n",
       "STLOAN        0       0     0          0           0          1622\n",
       "TA            0       0     0          0           0         30394\n",
       "TAX           0       0     0          0           1         91980\n",
       "TI            0       0     0          0           1         91657\n",
       "TIER1         0       0     0          0           0           202\n",
       "TIER2         0       0     0          0           0           202\n",
       "TIMINT        0       0     0          0         204         22002\n",
       "TL            0       0     0          0           0         30503\n",
       "UDEBT         0       0     0          0           3         26190\n",
       "WACC          0       0     0          0          74         19518\n",
       "WC            0       0     0          0           0         31282\n",
       "WCTO          0       0     0          0           0         30313\n",
       "WD            0       0     0          0           3         23061\n",
       "WE            0       0     0          0           3         23061\n",
       "\n",
       "[214 rows x 6 columns]"
      ]
     },
     "execution_count": 9,
     "metadata": {},
     "output_type": "execute_result"
    }
   ],
   "source": [
    "#how many nulls are there in each colum\n",
    "dfn.groupby('indicator').apply(lambda x: x.isnull().sum())\n",
    "#looks like only consolidated column has missing values"
   ]
  },
  {
   "cell_type": "code",
   "execution_count": 31,
   "metadata": {},
   "outputs": [],
   "source": [
    "#What fraction is nulls in each column if grouped by date? \n",
    "frac_nulls_bydate = dfn.groupby('date').apply(lambda x: x.isnull().sum()/x.isnull().count())\n"
   ]
  },
  {
   "cell_type": "code",
   "execution_count": 28,
   "metadata": {},
   "outputs": [
    {
     "data": {
      "image/png": "[encoded data removed]",
      "text/plain": [
       "<matplotlib.figure.Figure at 0x18eaaefd048>"
      ]
     },
     "metadata": {},
     "output_type": "display_data"
    }
   ],
   "source": [
    "plt.rcParams.update({'font.size': 10})\n",
    "frac_nulls_bydate['consolidated'].plot()\n",
    "plt.hold\n",
    "frac_nulls_bydate['standalone'].plot()\n",
    "plt.legend(['consolidated','standalone'])\n",
    "plt.title('Fraction of datapoints that are null');"
   ]
  },
  {
   "cell_type": "code",
   "execution_count": 44,
   "metadata": {},
   "outputs": [],
   "source": [
    "#There is an interesting up and down pattern. Maybe we can group by month and check?\n",
    "frac_nulls_bymonth_freq = dfn.groupby([dfn.date.dt.month, 'freq']).apply(lambda x: x.isnull().sum()/x.isnull().count())\n",
    "count_bymonth_freq = dfn.groupby([dfn.date.dt.month, 'freq']).apply(lambda x: x.count())\n"
   ]
  },
  {
   "cell_type": "code",
   "execution_count": 48,
   "metadata": {},
   "outputs": [
    {
     "data": {
      "text/html": [
       "<div>\n",
       "<style>\n",
       "    .dataframe thead tr:only-child th {\n",
       "        text-align: right;\n",
       "    }\n",
       "\n",
       "    .dataframe thead th {\n",
       "        text-align: left;\n",
       "    }\n",
       "\n",
       "    .dataframe tbody tr th {\n",
       "        vertical-align: top;\n",
       "    }\n",
       "</style>\n",
       "<table border=\"1\" class=\"dataframe\">\n",
       "  <thead>\n",
       "    <tr style=\"text-align: right;\">\n",
       "      <th></th>\n",
       "      <th></th>\n",
       "      <th>date</th>\n",
       "      <th>ticker</th>\n",
       "      <th>freq</th>\n",
       "      <th>indicator</th>\n",
       "      <th>standalone</th>\n",
       "      <th>consolidated</th>\n",
       "    </tr>\n",
       "    <tr>\n",
       "      <th>date</th>\n",
       "      <th>freq</th>\n",
       "      <th></th>\n",
       "      <th></th>\n",
       "      <th></th>\n",
       "      <th></th>\n",
       "      <th></th>\n",
       "      <th></th>\n",
       "    </tr>\n",
       "  </thead>\n",
       "  <tbody>\n",
       "    <tr>\n",
       "      <th rowspan=\"2\" valign=\"top\">3</th>\n",
       "      <th>A</th>\n",
       "      <td>0.0</td>\n",
       "      <td>0.0</td>\n",
       "      <td>0.0</td>\n",
       "      <td>0.0</td>\n",
       "      <td>0.001142</td>\n",
       "      <td>0.668570</td>\n",
       "    </tr>\n",
       "    <tr>\n",
       "      <th>Q</th>\n",
       "      <td>0.0</td>\n",
       "      <td>0.0</td>\n",
       "      <td>0.0</td>\n",
       "      <td>0.0</td>\n",
       "      <td>0.004718</td>\n",
       "      <td>0.827842</td>\n",
       "    </tr>\n",
       "    <tr>\n",
       "      <th rowspan=\"2\" valign=\"top\">6</th>\n",
       "      <th>A</th>\n",
       "      <td>0.0</td>\n",
       "      <td>0.0</td>\n",
       "      <td>0.0</td>\n",
       "      <td>0.0</td>\n",
       "      <td>0.001208</td>\n",
       "      <td>0.571696</td>\n",
       "    </tr>\n",
       "    <tr>\n",
       "      <th>Q</th>\n",
       "      <td>0.0</td>\n",
       "      <td>0.0</td>\n",
       "      <td>0.0</td>\n",
       "      <td>0.0</td>\n",
       "      <td>0.005768</td>\n",
       "      <td>0.834695</td>\n",
       "    </tr>\n",
       "    <tr>\n",
       "      <th rowspan=\"2\" valign=\"top\">9</th>\n",
       "      <th>A</th>\n",
       "      <td>0.0</td>\n",
       "      <td>0.0</td>\n",
       "      <td>0.0</td>\n",
       "      <td>0.0</td>\n",
       "      <td>0.002083</td>\n",
       "      <td>0.544914</td>\n",
       "    </tr>\n",
       "    <tr>\n",
       "      <th>Q</th>\n",
       "      <td>0.0</td>\n",
       "      <td>0.0</td>\n",
       "      <td>0.0</td>\n",
       "      <td>0.0</td>\n",
       "      <td>0.004177</td>\n",
       "      <td>0.839539</td>\n",
       "    </tr>\n",
       "    <tr>\n",
       "      <th rowspan=\"2\" valign=\"top\">12</th>\n",
       "      <th>A</th>\n",
       "      <td>0.0</td>\n",
       "      <td>0.0</td>\n",
       "      <td>0.0</td>\n",
       "      <td>0.0</td>\n",
       "      <td>0.001668</td>\n",
       "      <td>0.586723</td>\n",
       "    </tr>\n",
       "    <tr>\n",
       "      <th>Q</th>\n",
       "      <td>0.0</td>\n",
       "      <td>0.0</td>\n",
       "      <td>0.0</td>\n",
       "      <td>0.0</td>\n",
       "      <td>0.004799</td>\n",
       "      <td>0.832513</td>\n",
       "    </tr>\n",
       "  </tbody>\n",
       "</table>\n",
       "</div>"
      ],
      "text/plain": [
       "           date  ticker  freq  indicator  standalone  consolidated\n",
       "date freq                                                         \n",
       "3    A      0.0     0.0   0.0        0.0    0.001142      0.668570\n",
       "     Q      0.0     0.0   0.0        0.0    0.004718      0.827842\n",
       "6    A      0.0     0.0   0.0        0.0    0.001208      0.571696\n",
       "     Q      0.0     0.0   0.0        0.0    0.005768      0.834695\n",
       "9    A      0.0     0.0   0.0        0.0    0.002083      0.544914\n",
       "     Q      0.0     0.0   0.0        0.0    0.004177      0.839539\n",
       "12   A      0.0     0.0   0.0        0.0    0.001668      0.586723\n",
       "     Q      0.0     0.0   0.0        0.0    0.004799      0.832513"
      ]
     },
     "execution_count": 48,
     "metadata": {},
     "output_type": "execute_result"
    }
   ],
   "source": [
    "frac_nulls_bymonth_freq[count_bymonth_freq.date>2000]\n"
   ]
  },
  {
   "cell_type": "code",
   "execution_count": 49,
   "metadata": {
    "collapsed": true
   },
   "outputs": [],
   "source": [
    "frac_nulls_by_ticker = dfn.groupby('ticker').apply(lambda x: x.isnull().sum()/x.isnull().count())\n"
   ]
  },
  {
   "cell_type": "code",
   "execution_count": 52,
   "metadata": {},
   "outputs": [
    {
     "data": {
      "image/png": "[encoded data removed]",
      "text/plain": [
       "<matplotlib.figure.Figure at 0x18eaaeff1d0>"
      ]
     },
     "metadata": {},
     "output_type": "display_data"
    }
   ],
   "source": [
    "frac_nulls_by_ticker['consolidated'].sort_values().plot();"
   ]
  },
  {
   "cell_type": "markdown",
   "metadata": {},
   "source": [
    "### EUREKA! So some companies never have consolidated data available\n",
    "\n",
    "This might mean the companies who have subsidiaries report both standalone as well \n",
    "as consolidated, while those companies who don't have any subsidiary report only standalone? The companies who never had any subsidiary correspond to the flat portion?\n",
    "\n",
    "Then why is is the above chart not a step function from 0 to 1? Why is it slowly ramping up? Maybe these companies didn't have any subsidiary upto some time, and later acquired some firm? Or maybe they had a subsidiary and sold it off later? "
   ]
  },
  {
   "cell_type": "code",
   "execution_count": 53,
   "metadata": {},
   "outputs": [
    {
     "data": {
      "text/plain": [
       "ticker\n",
       "GUJRATGAS     0.0\n",
       "HCLTECH       0.0\n",
       "INFY          0.0\n",
       "SHANKARA      0.0\n",
       "SFL           0.0\n",
       "TATAGLOBAL    0.0\n",
       "MPHASIS       0.0\n",
       "DABUR         0.0\n",
       "HELIOSMATH    0.0\n",
       "HPL           0.0\n",
       "TEJASNET      0.0\n",
       "ESSARPORTS    0.0\n",
       "ROLTA         0.0\n",
       "QUESS         0.0\n",
       "ERIS          0.0\n",
       "ADVENZYMES    0.0\n",
       "VBL           0.0\n",
       "RANEHOLDIN    0.0\n",
       "INFIBEAM      0.0\n",
       "STEELCITY     0.0\n",
       "HDFC          0.0\n",
       "ENDURANCE     0.0\n",
       "GUJFLUORO     0.0\n",
       "CADILAHC      0.0\n",
       "BSE           0.0\n",
       "SPAL          0.0\n",
       "ALKEM         0.0\n",
       "ORBITCORP     0.0\n",
       "LTI           0.0\n",
       "MAMPMFIN      0.0\n",
       "             ... \n",
       "RUBYTEL       1.0\n",
       "INFRAIND      1.0\n",
       "RTFL          1.0\n",
       "BETKAPA       1.0\n",
       "BFFL          1.0\n",
       "BENARAS       1.0\n",
       "BEEKAY        1.0\n",
       "INDTERRAIN    1.0\n",
       "INDSWFTLTD    1.0\n",
       "INDOCITY      1.0\n",
       "SAPL          1.0\n",
       "INDOCRED      1.0\n",
       "SANOFI        1.0\n",
       "BCP           1.0\n",
       "SANGHVIMOV    1.0\n",
       "BCPAL         1.0\n",
       "INDOEURO      1.0\n",
       "SANGAMIND     1.0\n",
       "SANDUPHQ      1.0\n",
       "INDOSOLAR     1.0\n",
       "INDOTECH      1.0\n",
       "INDRAMEDCO    1.0\n",
       "SANBLUE       1.0\n",
       "SANASATECH    1.0\n",
       "SAMTELIN      1.0\n",
       "SAMKRG        1.0\n",
       "FASTRAENT     1.0\n",
       "SALSAIN       1.0\n",
       "SARVOTTAM     1.0\n",
       "SAGRSOYB      1.0\n",
       "Name: consolidated, Length: 4162, dtype: float64"
      ]
     },
     "execution_count": 53,
     "metadata": {},
     "output_type": "execute_result"
    }
   ],
   "source": [
    "frac_nulls_by_ticker['consolidated'].sort_values()"
   ]
  },
  {
   "cell_type": "code",
   "execution_count": 75,
   "metadata": {},
   "outputs": [],
   "source": [
    "## Lets take a ticker with missing data in consolidated somewhere around 0.5\n",
    "tickers_with_half_missing_consul = frac_nulls_by_ticker[frac_nulls_by_ticker['consolidated'].between(0.49,0.51)].index\n",
    "tickers_with_half_missing_consul = tickers_with_half_missing_consul.tolist()\n",
    "dfn_sub = dfn[dfn.ticker.isin(tickers_with_half_missing_consul)]\n",
    "\n",
    "#frac_nulls_by_ticker[]"
   ]
  },
  {
   "cell_type": "code",
   "execution_count": 87,
   "metadata": {},
   "outputs": [
    {
     "data": {
      "text/html": [
       "<div>\n",
       "<style>\n",
       "    .dataframe thead tr:only-child th {\n",
       "        text-align: right;\n",
       "    }\n",
       "\n",
       "    .dataframe thead th {\n",
       "        text-align: left;\n",
       "    }\n",
       "\n",
       "    .dataframe tbody tr th {\n",
       "        vertical-align: top;\n",
       "    }\n",
       "</style>\n",
       "<table border=\"1\" class=\"dataframe\">\n",
       "  <thead>\n",
       "    <tr style=\"text-align: right;\">\n",
       "      <th></th>\n",
       "      <th></th>\n",
       "      <th>consolidated</th>\n",
       "      <th>ticker</th>\n",
       "    </tr>\n",
       "    <tr>\n",
       "      <th>ticker</th>\n",
       "      <th>date</th>\n",
       "      <th></th>\n",
       "      <th></th>\n",
       "    </tr>\n",
       "  </thead>\n",
       "  <tbody>\n",
       "    <tr>\n",
       "      <th rowspan=\"12\" valign=\"top\">ABGSHIP</th>\n",
       "      <th>2005</th>\n",
       "      <td>1.000000</td>\n",
       "      <td>0.0</td>\n",
       "    </tr>\n",
       "    <tr>\n",
       "      <th>2006</th>\n",
       "      <td>0.127119</td>\n",
       "      <td>0.0</td>\n",
       "    </tr>\n",
       "    <tr>\n",
       "      <th>2007</th>\n",
       "      <td>0.000000</td>\n",
       "      <td>0.0</td>\n",
       "    </tr>\n",
       "    <tr>\n",
       "      <th>2008</th>\n",
       "      <td>0.977612</td>\n",
       "      <td>0.0</td>\n",
       "    </tr>\n",
       "    <tr>\n",
       "      <th>2009</th>\n",
       "      <td>0.099338</td>\n",
       "      <td>0.0</td>\n",
       "    </tr>\n",
       "    <tr>\n",
       "      <th>2010</th>\n",
       "      <td>0.066667</td>\n",
       "      <td>0.0</td>\n",
       "    </tr>\n",
       "    <tr>\n",
       "      <th>2011</th>\n",
       "      <td>0.072289</td>\n",
       "      <td>0.0</td>\n",
       "    </tr>\n",
       "    <tr>\n",
       "      <th>2012</th>\n",
       "      <td>0.163265</td>\n",
       "      <td>0.0</td>\n",
       "    </tr>\n",
       "    <tr>\n",
       "      <th>2013</th>\n",
       "      <td>0.511976</td>\n",
       "      <td>0.0</td>\n",
       "    </tr>\n",
       "    <tr>\n",
       "      <th>2014</th>\n",
       "      <td>0.568365</td>\n",
       "      <td>0.0</td>\n",
       "    </tr>\n",
       "    <tr>\n",
       "      <th>2015</th>\n",
       "      <td>0.600522</td>\n",
       "      <td>0.0</td>\n",
       "    </tr>\n",
       "    <tr>\n",
       "      <th>2016</th>\n",
       "      <td>1.000000</td>\n",
       "      <td>0.0</td>\n",
       "    </tr>\n",
       "    <tr>\n",
       "      <th rowspan=\"10\" valign=\"top\">AHLEAST</th>\n",
       "      <th>2008</th>\n",
       "      <td>1.000000</td>\n",
       "      <td>0.0</td>\n",
       "    </tr>\n",
       "    <tr>\n",
       "      <th>2009</th>\n",
       "      <td>0.187500</td>\n",
       "      <td>0.0</td>\n",
       "    </tr>\n",
       "    <tr>\n",
       "      <th>2010</th>\n",
       "      <td>0.000000</td>\n",
       "      <td>0.0</td>\n",
       "    </tr>\n",
       "    <tr>\n",
       "      <th>2011</th>\n",
       "      <td>0.062500</td>\n",
       "      <td>0.0</td>\n",
       "    </tr>\n",
       "    <tr>\n",
       "      <th>2012</th>\n",
       "      <td>0.176796</td>\n",
       "      <td>0.0</td>\n",
       "    </tr>\n",
       "    <tr>\n",
       "      <th>2013</th>\n",
       "      <td>0.540541</td>\n",
       "      <td>0.0</td>\n",
       "    </tr>\n",
       "    <tr>\n",
       "      <th>2014</th>\n",
       "      <td>0.577540</td>\n",
       "      <td>0.0</td>\n",
       "    </tr>\n",
       "    <tr>\n",
       "      <th>2015</th>\n",
       "      <td>0.625668</td>\n",
       "      <td>0.0</td>\n",
       "    </tr>\n",
       "    <tr>\n",
       "      <th>2016</th>\n",
       "      <td>0.624658</td>\n",
       "      <td>0.0</td>\n",
       "    </tr>\n",
       "    <tr>\n",
       "      <th>2017</th>\n",
       "      <td>1.000000</td>\n",
       "      <td>0.0</td>\n",
       "    </tr>\n",
       "    <tr>\n",
       "      <th rowspan=\"8\" valign=\"top\">AHLUCONT</th>\n",
       "      <th>2005</th>\n",
       "      <td>1.000000</td>\n",
       "      <td>0.0</td>\n",
       "    </tr>\n",
       "    <tr>\n",
       "      <th>2006</th>\n",
       "      <td>1.000000</td>\n",
       "      <td>0.0</td>\n",
       "    </tr>\n",
       "    <tr>\n",
       "      <th>2007</th>\n",
       "      <td>1.000000</td>\n",
       "      <td>0.0</td>\n",
       "    </tr>\n",
       "    <tr>\n",
       "      <th>2008</th>\n",
       "      <td>0.208955</td>\n",
       "      <td>0.0</td>\n",
       "    </tr>\n",
       "    <tr>\n",
       "      <th>2009</th>\n",
       "      <td>0.078431</td>\n",
       "      <td>0.0</td>\n",
       "    </tr>\n",
       "    <tr>\n",
       "      <th>2010</th>\n",
       "      <td>0.144578</td>\n",
       "      <td>0.0</td>\n",
       "    </tr>\n",
       "    <tr>\n",
       "      <th>2011</th>\n",
       "      <td>0.073171</td>\n",
       "      <td>0.0</td>\n",
       "    </tr>\n",
       "    <tr>\n",
       "      <th>2012</th>\n",
       "      <td>0.229167</td>\n",
       "      <td>0.0</td>\n",
       "    </tr>\n",
       "    <tr>\n",
       "      <th>...</th>\n",
       "      <th>...</th>\n",
       "      <td>...</td>\n",
       "      <td>...</td>\n",
       "    </tr>\n",
       "    <tr>\n",
       "      <th rowspan=\"6\" valign=\"top\">TRIL</th>\n",
       "      <th>2012</th>\n",
       "      <td>0.183333</td>\n",
       "      <td>0.0</td>\n",
       "    </tr>\n",
       "    <tr>\n",
       "      <th>2013</th>\n",
       "      <td>0.545171</td>\n",
       "      <td>0.0</td>\n",
       "    </tr>\n",
       "    <tr>\n",
       "      <th>2014</th>\n",
       "      <td>0.596685</td>\n",
       "      <td>0.0</td>\n",
       "    </tr>\n",
       "    <tr>\n",
       "      <th>2015</th>\n",
       "      <td>0.630728</td>\n",
       "      <td>0.0</td>\n",
       "    </tr>\n",
       "    <tr>\n",
       "      <th>2016</th>\n",
       "      <td>0.775000</td>\n",
       "      <td>0.0</td>\n",
       "    </tr>\n",
       "    <tr>\n",
       "      <th>2017</th>\n",
       "      <td>1.000000</td>\n",
       "      <td>0.0</td>\n",
       "    </tr>\n",
       "    <tr>\n",
       "      <th rowspan=\"11\" valign=\"top\">UNOINDL</th>\n",
       "      <th>2005</th>\n",
       "      <td>1.000000</td>\n",
       "      <td>0.0</td>\n",
       "    </tr>\n",
       "    <tr>\n",
       "      <th>2006</th>\n",
       "      <td>1.000000</td>\n",
       "      <td>0.0</td>\n",
       "    </tr>\n",
       "    <tr>\n",
       "      <th>2007</th>\n",
       "      <td>1.000000</td>\n",
       "      <td>0.0</td>\n",
       "    </tr>\n",
       "    <tr>\n",
       "      <th>2008</th>\n",
       "      <td>1.000000</td>\n",
       "      <td>0.0</td>\n",
       "    </tr>\n",
       "    <tr>\n",
       "      <th>2009</th>\n",
       "      <td>1.000000</td>\n",
       "      <td>0.0</td>\n",
       "    </tr>\n",
       "    <tr>\n",
       "      <th>2010</th>\n",
       "      <td>1.000000</td>\n",
       "      <td>0.0</td>\n",
       "    </tr>\n",
       "    <tr>\n",
       "      <th>2011</th>\n",
       "      <td>1.000000</td>\n",
       "      <td>0.0</td>\n",
       "    </tr>\n",
       "    <tr>\n",
       "      <th>2012</th>\n",
       "      <td>0.230415</td>\n",
       "      <td>0.0</td>\n",
       "    </tr>\n",
       "    <tr>\n",
       "      <th>2013</th>\n",
       "      <td>0.231013</td>\n",
       "      <td>0.0</td>\n",
       "    </tr>\n",
       "    <tr>\n",
       "      <th>2014</th>\n",
       "      <td>0.099125</td>\n",
       "      <td>0.0</td>\n",
       "    </tr>\n",
       "    <tr>\n",
       "      <th>2015</th>\n",
       "      <td>0.074890</td>\n",
       "      <td>0.0</td>\n",
       "    </tr>\n",
       "    <tr>\n",
       "      <th rowspan=\"13\" valign=\"top\">VJLAXMIE</th>\n",
       "      <th>2005</th>\n",
       "      <td>0.138889</td>\n",
       "      <td>0.0</td>\n",
       "    </tr>\n",
       "    <tr>\n",
       "      <th>2006</th>\n",
       "      <td>0.024194</td>\n",
       "      <td>0.0</td>\n",
       "    </tr>\n",
       "    <tr>\n",
       "      <th>2007</th>\n",
       "      <td>0.000000</td>\n",
       "      <td>0.0</td>\n",
       "    </tr>\n",
       "    <tr>\n",
       "      <th>2008</th>\n",
       "      <td>0.000000</td>\n",
       "      <td>0.0</td>\n",
       "    </tr>\n",
       "    <tr>\n",
       "      <th>2009</th>\n",
       "      <td>0.000000</td>\n",
       "      <td>0.0</td>\n",
       "    </tr>\n",
       "    <tr>\n",
       "      <th>2010</th>\n",
       "      <td>0.000000</td>\n",
       "      <td>0.0</td>\n",
       "    </tr>\n",
       "    <tr>\n",
       "      <th>2011</th>\n",
       "      <td>0.000000</td>\n",
       "      <td>0.0</td>\n",
       "    </tr>\n",
       "    <tr>\n",
       "      <th>2012</th>\n",
       "      <td>0.345622</td>\n",
       "      <td>0.0</td>\n",
       "    </tr>\n",
       "    <tr>\n",
       "      <th>2013</th>\n",
       "      <td>0.562112</td>\n",
       "      <td>0.0</td>\n",
       "    </tr>\n",
       "    <tr>\n",
       "      <th>2014</th>\n",
       "      <td>0.604905</td>\n",
       "      <td>0.0</td>\n",
       "    </tr>\n",
       "    <tr>\n",
       "      <th>2015</th>\n",
       "      <td>1.000000</td>\n",
       "      <td>0.0</td>\n",
       "    </tr>\n",
       "    <tr>\n",
       "      <th>2016</th>\n",
       "      <td>1.000000</td>\n",
       "      <td>0.0</td>\n",
       "    </tr>\n",
       "    <tr>\n",
       "      <th>2017</th>\n",
       "      <td>1.000000</td>\n",
       "      <td>0.0</td>\n",
       "    </tr>\n",
       "  </tbody>\n",
       "</table>\n",
       "<p>531 rows × 2 columns</p>\n",
       "</div>"
      ],
      "text/plain": [
       "               consolidated  ticker\n",
       "ticker   date                      \n",
       "ABGSHIP  2005      1.000000     0.0\n",
       "         2006      0.127119     0.0\n",
       "         2007      0.000000     0.0\n",
       "         2008      0.977612     0.0\n",
       "         2009      0.099338     0.0\n",
       "         2010      0.066667     0.0\n",
       "         2011      0.072289     0.0\n",
       "         2012      0.163265     0.0\n",
       "         2013      0.511976     0.0\n",
       "         2014      0.568365     0.0\n",
       "         2015      0.600522     0.0\n",
       "         2016      1.000000     0.0\n",
       "AHLEAST  2008      1.000000     0.0\n",
       "         2009      0.187500     0.0\n",
       "         2010      0.000000     0.0\n",
       "         2011      0.062500     0.0\n",
       "         2012      0.176796     0.0\n",
       "         2013      0.540541     0.0\n",
       "         2014      0.577540     0.0\n",
       "         2015      0.625668     0.0\n",
       "         2016      0.624658     0.0\n",
       "         2017      1.000000     0.0\n",
       "AHLUCONT 2005      1.000000     0.0\n",
       "         2006      1.000000     0.0\n",
       "         2007      1.000000     0.0\n",
       "         2008      0.208955     0.0\n",
       "         2009      0.078431     0.0\n",
       "         2010      0.144578     0.0\n",
       "         2011      0.073171     0.0\n",
       "         2012      0.229167     0.0\n",
       "...                     ...     ...\n",
       "TRIL     2012      0.183333     0.0\n",
       "         2013      0.545171     0.0\n",
       "         2014      0.596685     0.0\n",
       "         2015      0.630728     0.0\n",
       "         2016      0.775000     0.0\n",
       "         2017      1.000000     0.0\n",
       "UNOINDL  2005      1.000000     0.0\n",
       "         2006      1.000000     0.0\n",
       "         2007      1.000000     0.0\n",
       "         2008      1.000000     0.0\n",
       "         2009      1.000000     0.0\n",
       "         2010      1.000000     0.0\n",
       "         2011      1.000000     0.0\n",
       "         2012      0.230415     0.0\n",
       "         2013      0.231013     0.0\n",
       "         2014      0.099125     0.0\n",
       "         2015      0.074890     0.0\n",
       "VJLAXMIE 2005      0.138889     0.0\n",
       "         2006      0.024194     0.0\n",
       "         2007      0.000000     0.0\n",
       "         2008      0.000000     0.0\n",
       "         2009      0.000000     0.0\n",
       "         2010      0.000000     0.0\n",
       "         2011      0.000000     0.0\n",
       "         2012      0.345622     0.0\n",
       "         2013      0.562112     0.0\n",
       "         2014      0.604905     0.0\n",
       "         2015      1.000000     0.0\n",
       "         2016      1.000000     0.0\n",
       "         2017      1.000000     0.0\n",
       "\n",
       "[531 rows x 2 columns]"
      ]
     },
     "execution_count": 87,
     "metadata": {},
     "output_type": "execute_result"
    }
   ],
   "source": [
    "dfn_sub[['consolidated','ticker']].groupby(['ticker', dfn.date.dt.year]).apply(lambda x: x.isnull().sum()/x.isnull().count())"
   ]
  },
  {
   "cell_type": "code",
   "execution_count": 30,
   "metadata": {
    "collapsed": true
   },
   "outputs": [],
   "source": [
    "frac_nulls_by_indicator = dfn.groupby('indicator').apply(lambda x: x.isnull().sum()/x.isnull().count())\n"
   ]
  },
  {
   "cell_type": "code",
   "execution_count": 35,
   "metadata": {},
   "outputs": [
    {
     "data": {
      "image/png": "[encoded data removed]",
      "text/plain": [
       "<matplotlib.figure.Figure at 0x18e91b48c88>"
      ]
     },
     "metadata": {},
     "output_type": "display_data"
    }
   ],
   "source": [
    "frac_nulls_by_indicator['consolidated'].sort_values().plot();\n",
    "plt.hold\n",
    "frac_nulls_by_indicator['standalone'].sort_values().plot();\n",
    "plt.legend(['consolidated','standalone'])\n",
    "plt.title('Fraction of datapoints that are null');"
   ]
  },
  {
   "cell_type": "code",
   "execution_count": null,
   "metadata": {},
   "outputs": [],
   "source": [
    "#let us see if there is a pattern in where the consolidated column is null\n",
    "dfn['consIsNull'] = dfn.consolidated.isnull()\n",
    "grouped = dfn.groupby(['freq','consIsNull'])\n",
    "grouped.size().plot(kind='bar')"
   ]
  },
  {
   "cell_type": "markdown",
   "metadata": {
    "collapsed": true
   },
   "source": [
    "### For a financial info released with Annual frequency, 'consolidated' result is 1.5 times more likely to be null than not. \n",
    "### For a financial info released with Quarterly frequency, 'consolidated' result is 4 times more likely to be null than not."
   ]
  },
  {
   "cell_type": "code",
   "execution_count": null,
   "metadata": {},
   "outputs": [],
   "source": [
    "#lets see if there is a pattern in dates, when this data gets released\n",
    "dfn['date'].dt.month.value_counts() "
   ]
  },
  {
   "cell_type": "code",
   "execution_count": null,
   "metadata": {},
   "outputs": [],
   "source": [
    "#only 4 months! not unexpected because Indian fundamental data is to be released quarterly. Lets get down to dates now.\n",
    "dfn['date'].value_counts()"
   ]
  },
  {
   "cell_type": "code",
   "execution_count": null,
   "metadata": {},
   "outputs": [],
   "source": [
    "#something surely looks odd. How can all data release exactly on the last day of the Quarter? This is surely wrong as per\n",
    "#quick googling!! lets check in the orignal dataframe df\n",
    "df['date'].value_counts().plot()"
   ]
  },
  {
   "cell_type": "markdown",
   "metadata": {},
   "source": [
    "### Lets explore the second data set, i.e. price and volume history"
   ]
  },
  {
   "cell_type": "code",
   "execution_count": 88,
   "metadata": {
    "collapsed": true
   },
   "outputs": [],
   "source": [
    "#The below is the first of the two quandl datasets I have subscribed to. This one contains core fundamental data for India \n",
    "### please unzip TC1.zip file in ./DEB to be able to run the below code ###\n",
    "prc = pd.read_csv('TC1\\\\TC1_20170717.csv', \n",
    "                 names = ['ticker','date','open','high','low','last','close','volume','valueTraded'],\n",
    "                 header = None, parse_dates = ['date'])\n"
   ]
  },
  {
   "cell_type": "code",
   "execution_count": 89,
   "metadata": {},
   "outputs": [
    {
     "data": {
      "text/html": [
       "<div>\n",
       "<style>\n",
       "    .dataframe thead tr:only-child th {\n",
       "        text-align: right;\n",
       "    }\n",
       "\n",
       "    .dataframe thead th {\n",
       "        text-align: left;\n",
       "    }\n",
       "\n",
       "    .dataframe tbody tr th {\n",
       "        vertical-align: top;\n",
       "    }\n",
       "</style>\n",
       "<table border=\"1\" class=\"dataframe\">\n",
       "  <thead>\n",
       "    <tr style=\"text-align: right;\">\n",
       "      <th></th>\n",
       "      <th>ticker</th>\n",
       "      <th>date</th>\n",
       "      <th>open</th>\n",
       "      <th>high</th>\n",
       "      <th>low</th>\n",
       "      <th>last</th>\n",
       "      <th>close</th>\n",
       "      <th>volume</th>\n",
       "      <th>valueTraded</th>\n",
       "    </tr>\n",
       "  </thead>\n",
       "  <tbody>\n",
       "    <tr>\n",
       "      <th>0</th>\n",
       "      <td>20MICRONS</td>\n",
       "      <td>2008-10-06</td>\n",
       "      <td>40.00</td>\n",
       "      <td>40.00</td>\n",
       "      <td>15.80</td>\n",
       "      <td>16.78</td>\n",
       "      <td>16.83</td>\n",
       "      <td>23501730.0</td>\n",
       "      <td>4849.07</td>\n",
       "    </tr>\n",
       "    <tr>\n",
       "      <th>1</th>\n",
       "      <td>20MICRONS</td>\n",
       "      <td>2008-10-07</td>\n",
       "      <td>16.00</td>\n",
       "      <td>19.00</td>\n",
       "      <td>13.93</td>\n",
       "      <td>15.03</td>\n",
       "      <td>15.05</td>\n",
       "      <td>9113422.0</td>\n",
       "      <td>1435.99</td>\n",
       "    </tr>\n",
       "    <tr>\n",
       "      <th>2</th>\n",
       "      <td>20MICRONS</td>\n",
       "      <td>2008-10-08</td>\n",
       "      <td>14.00</td>\n",
       "      <td>14.60</td>\n",
       "      <td>12.55</td>\n",
       "      <td>13.20</td>\n",
       "      <td>13.25</td>\n",
       "      <td>2464384.0</td>\n",
       "      <td>330.90</td>\n",
       "    </tr>\n",
       "    <tr>\n",
       "      <th>3</th>\n",
       "      <td>20MICRONS</td>\n",
       "      <td>2008-10-10</td>\n",
       "      <td>12.45</td>\n",
       "      <td>12.45</td>\n",
       "      <td>10.83</td>\n",
       "      <td>11.83</td>\n",
       "      <td>11.60</td>\n",
       "      <td>1207928.0</td>\n",
       "      <td>141.93</td>\n",
       "    </tr>\n",
       "    <tr>\n",
       "      <th>4</th>\n",
       "      <td>20MICRONS</td>\n",
       "      <td>2008-10-13</td>\n",
       "      <td>12.15</td>\n",
       "      <td>13.30</td>\n",
       "      <td>11.65</td>\n",
       "      <td>12.35</td>\n",
       "      <td>12.33</td>\n",
       "      <td>898692.0</td>\n",
       "      <td>114.01</td>\n",
       "    </tr>\n",
       "  </tbody>\n",
       "</table>\n",
       "</div>"
      ],
      "text/plain": [
       "      ticker       date   open   high    low   last  close      volume  \\\n",
       "0  20MICRONS 2008-10-06  40.00  40.00  15.80  16.78  16.83  23501730.0   \n",
       "1  20MICRONS 2008-10-07  16.00  19.00  13.93  15.03  15.05   9113422.0   \n",
       "2  20MICRONS 2008-10-08  14.00  14.60  12.55  13.20  13.25   2464384.0   \n",
       "3  20MICRONS 2008-10-10  12.45  12.45  10.83  11.83  11.60   1207928.0   \n",
       "4  20MICRONS 2008-10-13  12.15  13.30  11.65  12.35  12.33    898692.0   \n",
       "\n",
       "   valueTraded  \n",
       "0      4849.07  \n",
       "1      1435.99  \n",
       "2       330.90  \n",
       "3       141.93  \n",
       "4       114.01  "
      ]
     },
     "execution_count": 89,
     "metadata": {},
     "output_type": "execute_result"
    }
   ],
   "source": [
    "prc.head(5)"
   ]
  },
  {
   "cell_type": "code",
   "execution_count": 90,
   "metadata": {},
   "outputs": [
    {
     "data": {
      "text/plain": [
       "1480"
      ]
     },
     "execution_count": 90,
     "metadata": {},
     "output_type": "execute_result"
    }
   ],
   "source": [
    "#how many distinct tickers are there in this data?\n",
    "len(prc.ticker.unique())"
   ]
  },
  {
   "cell_type": "code",
   "execution_count": 91,
   "metadata": {},
   "outputs": [
    {
     "data": {
      "text/plain": [
       "<matplotlib.axes._subplots.AxesSubplot at 0x18e90c35a90>"
      ]
     },
     "execution_count": 91,
     "metadata": {},
     "output_type": "execute_result"
    },
    {
     "data": {
      "image/png": "[encoded data removed]",
      "text/plain": [
       "<matplotlib.figure.Figure at 0x18e90c35198>"
      ]
     },
     "metadata": {},
     "output_type": "display_data"
    }
   ],
   "source": [
    "#how many distinct tickers are there in each calendar year of data?\n",
    "prc['ticker'].groupby(prc.date.dt.year).apply(lambda x: len(x.unique())).plot(kind = 'bar')"
   ]
  },
  {
   "cell_type": "markdown",
   "metadata": {},
   "source": [
    "## plot close prices of top 200 tickers by average daily value traded in this dataset.\n"
   ]
  },
  {
   "cell_type": "code",
   "execution_count": null,
   "metadata": {},
   "outputs": [],
   "source": [
    "prc.date.min()"
   ]
  },
  {
   "cell_type": "code",
   "execution_count": null,
   "metadata": {
    "collapsed": true
   },
   "outputs": [],
   "source": [
    "#filter out top200 most liquid stock's close price data\n",
    "vt = prc.loc[prc.date>='2007-01-01',['ticker','valueTraded']].groupby('ticker').mean()\n",
    "top200 = vt['valueTraded'].sort_values(ascending = False).head(200)\n",
    "prcfilt = prc.loc[prc.ticker.isin(top200.index) & (prc.date>='2007-01-01'),['date','ticker','close']]\n"
   ]
  },
  {
   "cell_type": "code",
   "execution_count": null,
   "metadata": {
    "collapsed": true
   },
   "outputs": [],
   "source": [
    "#Transform the data so that each price begins with 100. \n",
    "#This gets tricky because not every stock is present from day 1, some got listed only recently\n",
    "#So first we need to fill backfill nans with initial closing price and then we need to 100 base each stock price\n",
    "#All these manipulations are much easier to do by bringing all stock prices into separate columns\n",
    "prcNorm = prcfilt.set_index(['date','ticker']).unstack().fillna(method='bfill').apply(lambda x:100*x/x[0]).stack().reset_index()"
   ]
  },
  {
   "cell_type": "code",
   "execution_count": null,
   "metadata": {
    "collapsed": true
   },
   "outputs": [],
   "source": [
    "#add a column called liquidity having values 1 to 25, 25 being most liquid\n",
    "top200df = pd.DataFrame(top200).reset_index()\n",
    "top200df['liquidityRank'] = 1+ np.floor(top200df.index/8)\n",
    "top200df.drop('valueTraded',axis=1,inplace=True)\n",
    "prcNorm = prcNorm.merge(top200df,on='ticker',how='left')\n"
   ]
  },
  {
   "cell_type": "code",
   "execution_count": null,
   "metadata": {
    "collapsed": true
   },
   "outputs": [],
   "source": [
    "#write a function to plot the price chart of all stocks in the liquidity bucket that is input\n",
    "def chartStocks(df, liq, **kwargs):\n",
    "    if 'col' in kwargs:\n",
    "        col_to_plot = kwargs.pop('col')\n",
    "    else:\n",
    "        col_to_plot = 'close'\n",
    "    dffilt = df.loc[df.liquidityRank == liq,['date','ticker',col_to_plot]]\n",
    "    dffilt.set_index(['date','ticker']).unstack().plot()\n",
    "    plt.legend()\n",
    "    plt.grid()\n",
    "    "
   ]
  },
  {
   "cell_type": "code",
   "execution_count": null,
   "metadata": {},
   "outputs": [],
   "source": [
    "## Below is a nice tool to plot normalized prices of stocks (top200 by value traded) in groups of 8 \n",
    "#to check if all is well with this data set. \n",
    "chartStocks(prcNorm,1)  #keep changing the second input from 1 to 25"
   ]
  },
  {
   "cell_type": "code",
   "execution_count": null,
   "metadata": {},
   "outputs": [],
   "source": [
    "#Oh, why is there a massive jump down in ARCOTECH? (chartStocks(prcNorm, 14))In a corporate action adjusted data there \n",
    "#shouldnt be huge jumps because stock splits etc are already adjusted for, and if a stock genuinely moves in one day by \n",
    "#so much, circuit breaker rules will halt its trading\n",
    "\n",
    "#lets have a closer look around this time window\n",
    "prc.loc[(prc.ticker == 'ARCOTECH')&(prcfilt.date > '2014-03-21')&(prcfilt.date < '2014-04-22'),:]"
   ]
  },
  {
   "cell_type": "code",
   "execution_count": null,
   "metadata": {
    "collapsed": true
   },
   "outputs": [],
   "source": [
    "#ok some googling reveals that this stock got listed in NSE in April 2014. Before that only BSE. So does this vendor contain BSE\n",
    "#data if stock not listed on NSE? Asked quandl and vendor the question"
   ]
  },
  {
   "cell_type": "code",
   "execution_count": null,
   "metadata": {
    "collapsed": true
   },
   "outputs": [],
   "source": [
    "## So, we have been able to find out two problems one in each dataset by methodically exploring the data!"
   ]
  },
  {
   "cell_type": "markdown",
   "metadata": {},
   "source": [
    "## Let's try to see how the two datasets can be joined"
   ]
  },
  {
   "cell_type": "code",
   "execution_count": null,
   "metadata": {},
   "outputs": [],
   "source": [
    "dfn.head()"
   ]
  },
  {
   "cell_type": "code",
   "execution_count": null,
   "metadata": {},
   "outputs": [],
   "source": [
    "prc.head()"
   ]
  },
  {
   "cell_type": "markdown",
   "metadata": {},
   "source": [
    "**the ticker column looks similar, lets check how many tickers match** "
   ]
  },
  {
   "cell_type": "code",
   "execution_count": null,
   "metadata": {},
   "outputs": [],
   "source": [
    "common_tickers = np.intersect1d(dfn.ticker.unique(),prc.ticker.unique())\n",
    "print(\"Num tickers in fundamental data:\" ,len(dfn.ticker.unique()))\n",
    "print(\"Num tickers in price data:\" ,len(prc.ticker.unique()))\n",
    "print(\"Num of tickers in both datasets:\" ,len(common_tickers))"
   ]
  },
  {
   "cell_type": "markdown",
   "metadata": {},
   "source": [
    "### Earning's release dates have been found from 2011 onwards on NSE website! "
   ]
  },
  {
   "cell_type": "code",
   "execution_count": 3,
   "metadata": {
    "collapsed": true
   },
   "outputs": [],
   "source": [
    "common_tickers = []"
   ]
  },
  {
   "cell_type": "code",
   "execution_count": 4,
   "metadata": {},
   "outputs": [
    {
     "name": "stdout",
     "output_type": "stream",
     "text": [
      "earnings_release_dates.csv found, loading from it.\n",
      "If you want to download from NSE, delete this file\n"
     ]
    },
    {
     "data": {
      "text/html": [
       "<div>\n",
       "<style>\n",
       "    .dataframe thead tr:only-child th {\n",
       "        text-align: right;\n",
       "    }\n",
       "\n",
       "    .dataframe thead th {\n",
       "        text-align: left;\n",
       "    }\n",
       "\n",
       "    .dataframe tbody tr th {\n",
       "        vertical-align: top;\n",
       "    }\n",
       "</style>\n",
       "<table border=\"1\" class=\"dataframe\">\n",
       "  <thead>\n",
       "    <tr style=\"text-align: right;\">\n",
       "      <th></th>\n",
       "      <th>BoardMeetingDate</th>\n",
       "      <th>Company</th>\n",
       "      <th>Industry</th>\n",
       "      <th>Purpose</th>\n",
       "      <th>Symbol</th>\n",
       "    </tr>\n",
       "  </thead>\n",
       "  <tbody>\n",
       "    <tr>\n",
       "      <th>0</th>\n",
       "      <td>2015-10-08</td>\n",
       "      <td>8K Miles Software Services Limited</td>\n",
       "      <td>-</td>\n",
       "      <td>Results/Others</td>\n",
       "      <td>8KMILES</td>\n",
       "    </tr>\n",
       "    <tr>\n",
       "      <th>1</th>\n",
       "      <td>2016-01-08</td>\n",
       "      <td>8K Miles Software Services Limited</td>\n",
       "      <td>-</td>\n",
       "      <td>Results/Others</td>\n",
       "      <td>8KMILES</td>\n",
       "    </tr>\n",
       "    <tr>\n",
       "      <th>2</th>\n",
       "      <td>2016-05-09</td>\n",
       "      <td>8K Miles Software Services Limited</td>\n",
       "      <td>-</td>\n",
       "      <td>Results</td>\n",
       "      <td>8KMILES</td>\n",
       "    </tr>\n",
       "    <tr>\n",
       "      <th>3</th>\n",
       "      <td>2016-07-08</td>\n",
       "      <td>8K Miles Software Services Limited</td>\n",
       "      <td>-</td>\n",
       "      <td>Results</td>\n",
       "      <td>8KMILES</td>\n",
       "    </tr>\n",
       "    <tr>\n",
       "      <th>4</th>\n",
       "      <td>2016-11-07</td>\n",
       "      <td>8K Miles Software Services Limited</td>\n",
       "      <td>-</td>\n",
       "      <td>Results</td>\n",
       "      <td>8KMILES</td>\n",
       "    </tr>\n",
       "  </tbody>\n",
       "</table>\n",
       "</div>"
      ],
      "text/plain": [
       "  BoardMeetingDate                             Company Industry  \\\n",
       "0       2015-10-08  8K Miles Software Services Limited        -   \n",
       "1       2016-01-08  8K Miles Software Services Limited        -   \n",
       "2       2016-05-09  8K Miles Software Services Limited        -   \n",
       "3       2016-07-08  8K Miles Software Services Limited        -   \n",
       "4       2016-11-07  8K Miles Software Services Limited        -   \n",
       "\n",
       "          Purpose   Symbol  \n",
       "0  Results/Others  8KMILES  \n",
       "1  Results/Others  8KMILES  \n",
       "2         Results  8KMILES  \n",
       "3         Results  8KMILES  \n",
       "4         Results  8KMILES  "
      ]
     },
     "execution_count": 4,
     "metadata": {},
     "output_type": "execute_result"
    }
   ],
   "source": [
    "#download_earnings_dates is a function I wrote that downloads earnings dates from NSE \n",
    "#website. Because it takes about 10-15 minutes to download, the function simply loads \n",
    "#from a file if it already exists\n",
    "from earnings_dates import download_earnings_dates\n",
    "\n",
    "earnings_dates = download_earnings_dates(common_tickers)\n",
    "earnings_dates.head()"
   ]
  },
  {
   "cell_type": "code",
   "execution_count": 5,
   "metadata": {},
   "outputs": [
    {
     "data": {
      "text/html": [
       "<div>\n",
       "<style>\n",
       "    .dataframe thead tr:only-child th {\n",
       "        text-align: right;\n",
       "    }\n",
       "\n",
       "    .dataframe thead th {\n",
       "        text-align: left;\n",
       "    }\n",
       "\n",
       "    .dataframe tbody tr th {\n",
       "        vertical-align: top;\n",
       "    }\n",
       "</style>\n",
       "<table border=\"1\" class=\"dataframe\">\n",
       "  <thead>\n",
       "    <tr style=\"text-align: right;\">\n",
       "      <th></th>\n",
       "      <th>BoardMeetingDate</th>\n",
       "      <th>Company</th>\n",
       "      <th>Industry</th>\n",
       "      <th>Purpose</th>\n",
       "      <th>ticker</th>\n",
       "    </tr>\n",
       "  </thead>\n",
       "  <tbody>\n",
       "    <tr>\n",
       "      <th>0</th>\n",
       "      <td>2015-10-08</td>\n",
       "      <td>8K Miles Software Services Limited</td>\n",
       "      <td>-</td>\n",
       "      <td>Results/Others</td>\n",
       "      <td>8KMILES</td>\n",
       "    </tr>\n",
       "    <tr>\n",
       "      <th>1</th>\n",
       "      <td>2016-01-08</td>\n",
       "      <td>8K Miles Software Services Limited</td>\n",
       "      <td>-</td>\n",
       "      <td>Results/Others</td>\n",
       "      <td>8KMILES</td>\n",
       "    </tr>\n",
       "    <tr>\n",
       "      <th>2</th>\n",
       "      <td>2016-05-09</td>\n",
       "      <td>8K Miles Software Services Limited</td>\n",
       "      <td>-</td>\n",
       "      <td>Results</td>\n",
       "      <td>8KMILES</td>\n",
       "    </tr>\n",
       "    <tr>\n",
       "      <th>3</th>\n",
       "      <td>2016-07-08</td>\n",
       "      <td>8K Miles Software Services Limited</td>\n",
       "      <td>-</td>\n",
       "      <td>Results</td>\n",
       "      <td>8KMILES</td>\n",
       "    </tr>\n",
       "    <tr>\n",
       "      <th>4</th>\n",
       "      <td>2016-11-07</td>\n",
       "      <td>8K Miles Software Services Limited</td>\n",
       "      <td>-</td>\n",
       "      <td>Results</td>\n",
       "      <td>8KMILES</td>\n",
       "    </tr>\n",
       "    <tr>\n",
       "      <th>5</th>\n",
       "      <td>2017-01-09</td>\n",
       "      <td>8K Miles Software Services Limited</td>\n",
       "      <td>-</td>\n",
       "      <td>Results</td>\n",
       "      <td>8KMILES</td>\n",
       "    </tr>\n",
       "    <tr>\n",
       "      <th>6</th>\n",
       "      <td>2017-05-10</td>\n",
       "      <td>8K Miles Software Services Limited</td>\n",
       "      <td>-</td>\n",
       "      <td>Results/Dividend</td>\n",
       "      <td>8KMILES</td>\n",
       "    </tr>\n",
       "    <tr>\n",
       "      <th>7</th>\n",
       "      <td>2014-02-13</td>\n",
       "      <td>A2Z INFRA ENGINEERING LIMITED</td>\n",
       "      <td>-</td>\n",
       "      <td>Results</td>\n",
       "      <td>A2ZINFRA</td>\n",
       "    </tr>\n",
       "    <tr>\n",
       "      <th>8</th>\n",
       "      <td>2014-05-30</td>\n",
       "      <td>A2Z INFRA ENGINEERING LIMITED</td>\n",
       "      <td>-</td>\n",
       "      <td>Results</td>\n",
       "      <td>A2ZINFRA</td>\n",
       "    </tr>\n",
       "    <tr>\n",
       "      <th>9</th>\n",
       "      <td>2014-08-14</td>\n",
       "      <td>A2Z INFRA ENGINEERING LIMITED</td>\n",
       "      <td>-</td>\n",
       "      <td>Results</td>\n",
       "      <td>A2ZINFRA</td>\n",
       "    </tr>\n",
       "  </tbody>\n",
       "</table>\n",
       "</div>"
      ],
      "text/plain": [
       "  BoardMeetingDate                             Company Industry  \\\n",
       "0       2015-10-08  8K Miles Software Services Limited        -   \n",
       "1       2016-01-08  8K Miles Software Services Limited        -   \n",
       "2       2016-05-09  8K Miles Software Services Limited        -   \n",
       "3       2016-07-08  8K Miles Software Services Limited        -   \n",
       "4       2016-11-07  8K Miles Software Services Limited        -   \n",
       "5       2017-01-09  8K Miles Software Services Limited        -   \n",
       "6       2017-05-10  8K Miles Software Services Limited        -   \n",
       "7       2014-02-13       A2Z INFRA ENGINEERING LIMITED        -   \n",
       "8       2014-05-30       A2Z INFRA ENGINEERING LIMITED        -   \n",
       "9       2014-08-14       A2Z INFRA ENGINEERING LIMITED        -   \n",
       "\n",
       "            Purpose    ticker  \n",
       "0    Results/Others   8KMILES  \n",
       "1    Results/Others   8KMILES  \n",
       "2           Results   8KMILES  \n",
       "3           Results   8KMILES  \n",
       "4           Results   8KMILES  \n",
       "5           Results   8KMILES  \n",
       "6  Results/Dividend   8KMILES  \n",
       "7           Results  A2ZINFRA  \n",
       "8           Results  A2ZINFRA  \n",
       "9           Results  A2ZINFRA  "
      ]
     },
     "execution_count": 5,
     "metadata": {},
     "output_type": "execute_result"
    }
   ],
   "source": [
    "earnings_dates.columns = ['BoardMeetingDate', 'Company', 'Industry', 'Purpose', 'ticker']\n",
    "#earnings_dates.set_index(['ticker','BoardMeetingDate'],inplace=True)\n",
    "earnings_dates.head(10)"
   ]
  },
  {
   "cell_type": "code",
   "execution_count": 9,
   "metadata": {},
   "outputs": [
    {
     "name": "stdout",
     "output_type": "stream",
     "text": [
      "BoardMeetingDate    0\n",
      "Company             0\n",
      "Industry            0\n",
      "Purpose             0\n",
      "ticker              0\n",
      "dtype: int64\n"
     ]
    }
   ],
   "source": [
    "#check for nulls in earnings_dates\n",
    "print(earnings_dates.isnull().sum())\n",
    "#earnings_dates.to_csv('earnings_release_dates.csv')"
   ]
  },
  {
   "cell_type": "code",
   "execution_count": 7,
   "metadata": {},
   "outputs": [],
   "source": [
    "earnings_dates = earnings_dates[~earnings_dates.Company.isnull()]"
   ]
  },
  {
   "cell_type": "code",
   "execution_count": null,
   "metadata": {},
   "outputs": [],
   "source": [
    "#The earnings release dates have the BoardMeetingDate, the date on which financial results \n",
    "#are made public after the close of market-hours for the day. \n",
    "\n",
    "#But unfortunately, it does not explicitly state which quarter does the BoardMeetingDate\n",
    "#refer to. We have checked for a few cases and found that earnings are released in within \n",
    "#the next quarter. \n",
    "\n",
    "#So lets make an assumption here that QuarterEndDate is that of the immediately prior \n",
    "#quarter before the BoardMeetingDate\n",
    "from pandas.tseries.offsets import *\n",
    "\n",
    "##The below is a class from offets module in pandas.tseries\n",
    "quarterEnd = QuarterEnd()\n",
    "\n",
    "#quarterEnd.rollback() is an instance method that takes a date and rolls it back to \n",
    "#most recent quarter end date, exactly what we need! \n",
    "earnings_dates['QuarterEndDate'] =earnings_dates.BoardMeetingDate.apply(quarterEnd.rollback)\n",
    "earnings_dates.head(10)"
   ]
  },
  {
   "cell_type": "code",
   "execution_count": null,
   "metadata": {},
   "outputs": [],
   "source": [
    "#Let us see the distribution of BoardMeetingDate - quarterEndDate\n",
    "earnings_release_delays = (earnings_dates.BoardMeetingDate - earnings_dates.QuarterEndDate)\n",
    "earnings_release_delays.dt.days.plot(kind='kde',title='Probability density of earnings release delay')\n",
    "plt.xlabel('Days from Quarter End when the company releases the financial results');\n",
    "plt.xlim([0,90]);"
   ]
  },
  {
   "cell_type": "markdown",
   "metadata": {},
   "source": [
    "### Lets add a delay of 63 days whenever we don't have earnings release date\n",
    "We don't have earnings release dates for data before 2011 (and maybe some gaps afterwards as well) so based on the above chart let us add a delay of 63 days to be on the conservative side for all datapoints where we do not have the exact earnings release date. "
   ]
  },
  {
   "cell_type": "markdown",
   "metadata": {},
   "source": [
    "### Analyze the feature values"
   ]
  },
  {
   "cell_type": "markdown",
   "metadata": {},
   "source": [
    "1/\tData exploration to decide the date range for training set and test-set and stock universe for this study. Factors involved:\n",
    "a.\tData availability\n",
    "b.\tStock liquidity\n",
    "c.\tAvoid any bias in universe selection like survivorship\n",
    "2)\tInvestment signal creation and classification: A close look at fundamental data set to see whether it needs enrichment i.e. computing well known indicators to make a comprehensive list of possible investment signals classified into various factors like growth, value, quality, size, momentum etc\n",
    "3)\tVisualize performance of individual investment signals If each investment signal is used only by itself as a ranker for long stock portfolio, how is the in-sample performance of the strategy. \n",
    "4)\tData pre-processing like filling missing data, normalizing, uniformizing, sector-neutralizing, quantizing, winsorizing etc to make variations in output variable (returns) more sensitive to variations in input variables and also make combining variables more sensible. \n",
    "5)\tCreate a benchmark by using a simple linear model (with some basic checks) for other machine learning techniques to see if they do any better\n",
    "6)\tTest most promising models as per the paper and see if they perform any better than the simple model\n",
    "7)\tDocument the conclusions and insights \n"
   ]
  }
 ],
 "metadata": {
  "kernelspec": {
   "display_name": "Python 3",
   "language": "python",
   "name": "python3"
  }
 },
 "nbformat": 4,
 "nbformat_minor": 2
}
